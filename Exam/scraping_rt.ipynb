{
 "cells": [
  {
   "cell_type": "markdown",
   "metadata": {},
   "source": [
    "# Scraping Rotten Tomatoes"
   ]
  },
  {
   "cell_type": "markdown",
   "metadata": {},
   "source": [
    "### Scraping list of movies"
   ]
  },
  {
   "cell_type": "code",
   "execution_count": 2,
   "metadata": {},
   "outputs": [
    {
     "name": "stderr",
     "output_type": "stream",
     "text": [
      "C:\\Users\\Jacob\\Anaconda3\\lib\\site-packages\\pandas\\core\\frame.py:6692: FutureWarning: Sorting because non-concatenation axis is not aligned. A future version\n",
      "of pandas will change to not sort by default.\n",
      "\n",
      "To accept the future behavior, pass 'sort=False'.\n",
      "\n",
      "To retain the current behavior and silence the warning, pass 'sort=True'.\n",
      "\n",
      "  sort=sort)\n"
     ]
    }
   ],
   "source": [
    "import requests\n",
    "import pandas as pd\n",
    "import time\n",
    "from bs4 import BeautifulSoup as bs\n",
    "from bs4.element import NavigableString, Tag\n",
    "\n",
    "# This loop loops through pages of DVD & Streaming movies on Rotten Tomatoes, appending the movies in the page to a dataframe\n",
    "i = 1\n",
    "while True:\n",
    "    # Visit page containing movies\n",
    "    url = 'https://www.rottentomatoes.com/api/private/v2.0/browse?maxTomato=100&services=amazon%3Bhbo_go%3Bitunes%3Bnetflix_iw%3Bvudu%3Bamazon_prime%3Bfandango_now&certified&sortBy=release&type=dvd-streaming-all&page=' + str(i)\n",
    "    response = requests.get(url)\n",
    "    response_json = response.json()\n",
    "    \n",
    "    # If there are no results, we have reached the last page, so break out of the loop before appending nothing to the dataframe\n",
    "    if response_json['results'] == []: break\n",
    "    \n",
    "    # If we are on the first iteration, create a new dataframe; otherwise append to it\n",
    "    if i == 1:\n",
    "        df = pd.DataFrame(response_json['results'])\n",
    "    else:\n",
    "        df = df.append(pd.DataFrame(response_json['results']))\n",
    "        \n",
    "    # Iterate counter to go to the next page in the next loop\n",
    "    i += 1"
   ]
  },
  {
   "cell_type": "markdown",
   "metadata": {},
   "source": [
    "### Loop to iterate through movies in dataframe (TBD)"
   ]
  },
  {
   "cell_type": "code",
   "execution_count": 22,
   "metadata": {},
   "outputs": [
    {
     "name": "stdout",
     "output_type": "stream",
     "text": [
      "[('6', '18'), ('81', '70'), ('66', '89'), ('36', '66'), ('74', '65')]\n",
      "['Sep 2, 2005', 'Sep 16, 2005', 'Sep 16, 2005', 'Sep 23, 2005', 'Jan 21, 2005']\n",
      "[('99', '43,542'), ('62', '5,280'), ('119', '59,913'), ('64', '16,550'), ('47', '13,322')]\n",
      "['A seemingly insignificant act may cause the fabric of history to unravel in this sci-fi adventure. Charles Hatton (Ben Kingsley) owns and operates a successful firm known as Time Safari. Thanks to time travel technology developed by Hatton\\'s employee Sonia Rand (Catherine McCormack), Time Safari allows big game hunters to journey back to prehistoric days and shoot living, breathing dinosaurs. Rand picks out the dinosaur in question, who is soon to die, and creates a floating walkway for the hunters, so the impact of their presence will not be felt by the land around them. But on one expedition, things go horribly wrong when a nervous hunter steps off the walkway and crushes a butterfly, a tiny act that proves to have massive consequences over the course of several million years. As the earth\\'s climate and animal life begin to mutate due to this shift in natural history, Time Safari\\'s leading hunting guide, Travis Ryer (Edward Burns), works beside Rand in a desperate attempt to halt the \"ripples of time\" before modern civilization completely collapses. A Sound of Thunder was based on a classic short story by pioneering science fiction author Ray Bradbury.', \"American independent filmmaker Lodge Kerrigan returned after a six-year hiatus with this formally challenging tale of a disheveled man desperately searching New York City for his young daughter. Keane takes its name from its central character, a middle-aged man (Damien Lewis) who wanders Port Authority with a seemingly tenuous grasp of his sanity, muttering to himself and causing altercations with passers-by. He claims to have lost his daughter at a bus station, and consistently pleads for assistance from indifferent authority figures. When he's not roaming the streets, he uses his meager savings to rent out a room nightly in a cheap hotel; there, he meets Lynn (Amy Ryan), a single mother with a daughter, Kyra (Abigail Breslin), almost the same age as Keane's missing child. As he grows closer to Lynn and Kyra, he starts to see the young girl as instrumental in deciphering his own loss. Keane premiered at the 2004 Toronto Film Festival before securing a 2005 theatrical release. ~ Michael Hastings, Rovi\", \"Tale of a young man's quest to find the woman who saved his grandfather in a small Ukrainian town that was wiped off the map by the Nazi invasion. What starts out as a journey to piece together one family's story under the most absurd circumstances turns into a surprisingly meaningful journey with a powerful series of revelations -- the importance of remembrance, the perilous nature of secrets, the legacy of the Holocaust, the meaning of friendship and, most importantly, love.\", 'The contradictions of America\\'s simultaneous love and fear of violence go under the microscope in this drama from Danish filmmaker Thomas Vinterberg. Dick (Jamie Bell) is a timid young man growing up in a mining town where he\\'s been deemed to frail to work with the other men. Dick is given a toy gun by a girl who works in a dime store, and he becomes fascinated with the weapon -- especially when it becomes clear that the gun isn\\'t a toy after all. Dick and a handful of other local misfits who are also interested in guns form a gang called \"the Dandies,\" a band of self-styled pacifists who make it their policy to never use their weapons as they lead the town\\'s young people by example. However, as their obsession with firearms grows, Dick and his fellow Dandies are approached by local police chief Krugsby (Bill Pullman), who asks them to look after Sebastian (Danso Gordon), the violent son of Dick\\'s maid Clarabelle (Novella Nelson). At first, the Dandies see this as a challenge to bring Sebastian over to the cause of nonviolence, but soon his influence begins to impact Dick and his compatriots, with devastating results. Scripted by Lars von Trier, Dear Wendy received its North American premiere at the 2005 Sundance Film Festival. ~ Mark Deming, Rovi', \"Tim Kirkman wrote and directed Loggerheads, a film that follows three different storylines that all transpire over the course of a Mother's Day weekend, but take place at different times. One of the stories features a man who arrives in a coastal North Carolina town in order to preserve turtles that are endangered. He becomes involved with a local businessman and must decide where he feels in his heart that he belongs. A second story concerns a woman who begins to feel her small-town changing in ways that frighten her. She must face these changing social realities while constantly listening to the speeches of her minister husband. The third storyline involves a woman who intends to spend the weekend celebrating the holiday with her own mother while also attempting to make contact with the child she gave up for adoption years before. Loggerheads was a selection at the 2005 Sundance Film Festival.\"]\n",
      "[['Action & Adventure', 'Drama', 'Horror', 'Science Fiction & Fantasy'], ['Drama', 'Mystery & Suspense'], ['Action & Adventure', 'Comedy', 'Drama'], ['Art House & International', 'Drama'], ['Art House & International', 'Drama', 'Romance']]\n",
      "[['Ben Kingsley', 'Peter Hyams'], ['Lodge Kerrigan'], ['Liev Schreiber'], ['Thomas Vinterberg'], ['Tim Kirkman']]\n",
      "['Warner Bros.', 'Magnolia', 'Warner Independent Pictures', 'Wellspring Media', 'Strand Releasing']\n"
     ]
    }
   ],
   "source": [
    "ratings = []\n",
    "release_dates = []\n",
    "number_of_ratings = []\n",
    "synopses = []\n",
    "genres = []\n",
    "directors = []\n",
    "studios = []\n",
    "for i in df['url'].head():\n",
    "    url = 'https://www.rottentomatoes.com' + i\n",
    "    response = requests.get(url)\n",
    "    html = response.text\n",
    "    soup = bs(html,'lxml')\n",
    "    \n",
    "    ratings.append(scrape_ratings(soup))\n",
    "    release_dates.append(scrape_release_date(soup))\n",
    "    number_of_ratings.append(scrape_ratings_count(soup))\n",
    "    synopses.append(scrape_synopsis(soup))\n",
    "    genres.append(scrape_genres(soup))\n",
    "    directors.append(scrape_directors(soup))\n",
    "    studios.append(scrape_studios(soup))\n",
    "\n",
    "print(ratings)\n",
    "print(release_dates)\n",
    "print(number_of_ratings)\n",
    "print(synopses)\n",
    "print(genres)\n",
    "print(directors)\n",
    "print(studios)"
   ]
  },
  {
   "cell_type": "markdown",
   "metadata": {},
   "source": [
    "### Scraping individual movie ratings"
   ]
  },
  {
   "cell_type": "code",
   "execution_count": 3,
   "metadata": {},
   "outputs": [],
   "source": [
    "def scrape_ratings(soup):\n",
    "    # Get ratings nodes\n",
    "    r_nodes = soup.find_all('span', attrs = {'class': 'mop-ratings-wrap__percentage'})\n",
    "\n",
    "    # Save ratings\n",
    "    tomatometer = r_nodes[0].text.split()[0][:-1]\n",
    "    audience = r_nodes[1].text.split()[0][:-1]\n",
    "\n",
    "    return tomatometer, audience"
   ]
  },
  {
   "cell_type": "markdown",
   "metadata": {},
   "source": [
    "### Scraping movie release date"
   ]
  },
  {
   "cell_type": "code",
   "execution_count": 15,
   "metadata": {},
   "outputs": [],
   "source": [
    "def scrape_release_date(soup):\n",
    "    t_nodes = soup.find_all('time')\n",
    "    release_date = t_nodes[0].text\n",
    "    return release_date"
   ]
  },
  {
   "cell_type": "markdown",
   "metadata": {},
   "source": [
    "### Scraping number of ratings"
   ]
  },
  {
   "cell_type": "code",
   "execution_count": 21,
   "metadata": {},
   "outputs": [],
   "source": [
    "def scrape_ratings_count(soup):\n",
    "    tc_nodes = soup.find_all('small', attrs = {'class': 'mop-ratings-wrap__text--small'})\n",
    "    total_count = tc_nodes[0].text.split()[0]\n",
    "    \n",
    "    ac_nodes = soup.find_all('strong', attrs = {'class': 'mop-ratings-wrap__text--small'})\n",
    "    audience_count = ac_nodes[1].text.split()[2]\n",
    "    \n",
    "    return total_count, audience_count"
   ]
  },
  {
   "cell_type": "markdown",
   "metadata": {},
   "source": [
    "### Scraping movie synopsis"
   ]
  },
  {
   "cell_type": "code",
   "execution_count": 6,
   "metadata": {},
   "outputs": [],
   "source": [
    "def scrape_synopsis(soup):\n",
    "    ms_nodes = soup.find_all('div', attrs = {'id': 'movieSynopsis'})\n",
    "    movie_synopsis = ms_nodes[0].text.split('\\n')[1].lstrip()\n",
    "    return movie_synopsis"
   ]
  },
  {
   "cell_type": "markdown",
   "metadata": {},
   "source": [
    "### Scraping genres"
   ]
  },
  {
   "cell_type": "code",
   "execution_count": 7,
   "metadata": {},
   "outputs": [],
   "source": [
    "def scrape_genres(soup):\n",
    "    g_nodes = soup.find_all('div', attrs = {'class': 'meta-value'})\n",
    "\n",
    "    genres = []\n",
    "    for item in g_nodes:\n",
    "        for child in item.children:\n",
    "            if isinstance(child, NavigableString):\n",
    "                continue\n",
    "            if isinstance(child, Tag):\n",
    "                try:\n",
    "                    if 'genres' in child['href']:\n",
    "                        genres.append(child.text)\n",
    "                except:\n",
    "                    continue\n",
    "\n",
    "    return genres"
   ]
  },
  {
   "cell_type": "markdown",
   "metadata": {},
   "source": [
    "### Scraping directors"
   ]
  },
  {
   "cell_type": "code",
   "execution_count": 8,
   "metadata": {},
   "outputs": [],
   "source": [
    "def scrape_directors(soup):\n",
    "    d_nodes = soup.find_all('li', attrs = {'class': 'meta-row clearfix'})\n",
    "\n",
    "    directors = []\n",
    "    next_one = False\n",
    "    for item in d_nodes:\n",
    "        if next_one == True: break\n",
    "        for child in item.children:\n",
    "            if isinstance(child, NavigableString):\n",
    "                continue\n",
    "            if isinstance(child, Tag):\n",
    "                if next_one == True:\n",
    "                    for lchild in child.children:\n",
    "                        if isinstance(lchild, NavigableString):\n",
    "                            continue\n",
    "                        if isinstance(lchild, Tag):\n",
    "                            try:\n",
    "                                directors.append(lchild.text)\n",
    "                            except:\n",
    "                                continue\n",
    "                if 'Directed By:' in child.text:\n",
    "                    next_one = True\n",
    "\n",
    "    return directors"
   ]
  },
  {
   "cell_type": "markdown",
   "metadata": {},
   "source": [
    "### Scraping studios"
   ]
  },
  {
   "cell_type": "code",
   "execution_count": 9,
   "metadata": {},
   "outputs": [],
   "source": [
    "def scrape_studios(soup):\n",
    "    s_nodes = soup.find_all('a', attrs = {'target': 'movie-studio'})\n",
    "    movie_studio = s_nodes[0].text\n",
    "    return movie_studio"
   ]
  }
 ],
 "metadata": {
  "kernelspec": {
   "display_name": "Python 3",
   "language": "python",
   "name": "python3"
  },
  "language_info": {
   "codemirror_mode": {
    "name": "ipython",
    "version": 3
   },
   "file_extension": ".py",
   "mimetype": "text/x-python",
   "name": "python",
   "nbconvert_exporter": "python",
   "pygments_lexer": "ipython3",
   "version": "3.7.3"
  }
 },
 "nbformat": 4,
 "nbformat_minor": 2
}
