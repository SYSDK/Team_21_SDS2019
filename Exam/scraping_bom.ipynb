{
 "cells": [
  {
   "cell_type": "markdown",
   "metadata": {},
   "source": [
    "# Scraping Box Office Mojo"
   ]
  },
  {
   "cell_type": "markdown",
   "metadata": {},
   "source": [
    "### Scraping movies"
   ]
  },
  {
   "cell_type": "code",
   "execution_count": 68,
   "metadata": {},
   "outputs": [
    {
     "name": "stdout",
     "output_type": "stream",
     "text": [
      "1\n",
      "2\n",
      "3\n",
      "4\n",
      "5\n",
      "6\n",
      "7\n",
      "8\n"
     ]
    }
   ],
   "source": [
    "import requests\n",
    "from bs4 import BeautifulSoup as bs\n",
    "import pandas as pd\n",
    "from re import sub\n",
    "import time\n",
    "\n",
    "\n",
    "for i in range(1, 9):\n",
    "    tables = pd.read_html('https://www.boxofficemojo.com/alltime/world/?pagenum=' + str(i) + '&p=.htm', header = 0)\n",
    "    dfs = tables[1]\n",
    "    dfs.columns = ['boRank', 'title', 'studioAcronym', 'boWorldwide', 'boDomestic', 'boDomesticFrac', 'boOverseas', 'boOverseasFrac', 'year']\n",
    "    if i == 1:\n",
    "        dfn = dfs.copy()\n",
    "    else:\n",
    "        dfn = dfn.append(dfs) \n",
    "    print(i)\n",
    "    time.sleep(1)"
   ]
  },
  {
   "cell_type": "markdown",
   "metadata": {},
   "source": [
    "### Structuring data"
   ]
  },
  {
   "cell_type": "code",
   "execution_count": 70,
   "metadata": {},
   "outputs": [],
   "source": [
    "def numerize(string):\n",
    "    return int(sub(\"[^0-9]\", \"\", string))\n",
    "\n",
    "def numerize_money(string):\n",
    "    if isinstance(string, str):\n",
    "        if 'k' in string:\n",
    "            try:\n",
    "                return round(float(string.replace('$', '').replace(',', '').replace('k', ''))/1000, 1)\n",
    "            except:\n",
    "                return None\n",
    "        else:\n",
    "            try:\n",
    "                return round(float(string.replace('$', '').replace(',', '').replace('k', '')), 1)\n",
    "            except:\n",
    "                return None\n",
    "    else:\n",
    "        return None\n",
    "\n",
    "def fractionize(string):\n",
    "    string = string.replace('%','')\n",
    "    return round(float(string)/100, 3)\n",
    "\n",
    "dfn['year'] = dfn['year'].apply(numerize)\n",
    "dfn['boWorldwide'] = dfn['boWorldwide'].apply(numerize_money)\n",
    "dfn['boDomestic'] = dfn['boDomestic'].apply(numerize_money)\n",
    "dfn['boOverseas'] = dfn['boOverseas'].apply(numerize_money)\n",
    "dfn['boDomesticFrac'] = dfn['boDomesticFrac'].apply(fractionize)\n",
    "dfn['boOverseasFrac'] = dfn['boOverseasFrac'].apply(fractionize)\n",
    "\n",
    "dfn.to_pickle('boxofficemojo.pkl')"
   ]
  }
 ],
 "metadata": {
  "kernelspec": {
   "display_name": "Python 3",
   "language": "python",
   "name": "python3"
  },
  "language_info": {
   "codemirror_mode": {
    "name": "ipython",
    "version": 3
   },
   "file_extension": ".py",
   "mimetype": "text/x-python",
   "name": "python",
   "nbconvert_exporter": "python",
   "pygments_lexer": "ipython3",
   "version": "3.7.3"
  }
 },
 "nbformat": 4,
 "nbformat_minor": 2
}
