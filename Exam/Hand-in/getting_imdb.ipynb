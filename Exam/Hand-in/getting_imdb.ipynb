{
 "cells": [
  {
   "cell_type": "markdown",
   "metadata": {},
   "source": [
    "# Getting IMDb data"
   ]
  },
  {
   "cell_type": "code",
   "execution_count": null,
   "metadata": {
    "scrolled": true
   },
   "outputs": [],
   "source": [
    "# Imports\n",
    "import pandas as pd\n",
    "import numpy as np\n",
    "\n",
    "# Download IMDb data\n",
    "df_ratings = pd.read_csv(r'C:\\Users\\Jacob\\Downloads\\title.ratings.tsv.gz', compression='gzip', sep = '\t')\n",
    "df_title = pd.read_csv(r'C:\\Users\\Jacob\\Downloads\\title.basics.tsv.gz', compression='gzip', sep = '\t')\n",
    "\n",
    "# Drop irrelevant columns\n",
    "df_title = df_title.drop(['originalTitle', 'endYear', 'genres'], axis = 1)\n",
    "\n",
    "# Rename columns\n",
    "df_title.rename(columns = {'primaryTitle': 'title', 'startYear': 'year', 'runtimeMinutes': 'runtime'}, inplace = True)\n",
    "\n",
    "# Fix title\n",
    "df_title['year'] = df_title['year'].replace(r'\\N', np.nan)\n",
    "\n",
    "# Select only movies\n",
    "df_title = df_title[df_title['titleType'] == 'movie']\n",
    "\n",
    "# Convert year to number\n",
    "df_title['year'] = pd.to_numeric(df_title['year'])\n",
    "\n",
    "# Merge IMDb datasets\n",
    "dfi = df_title.merge(df_ratings, on = 'tconst')\n",
    "\n",
    "# Save dataframe\n",
    "dfi.to_pickle('imdb.pkl')"
   ]
  }
 ],
 "metadata": {
  "kernelspec": {
   "display_name": "Python 3",
   "language": "python",
   "name": "python3"
  },
  "language_info": {
   "codemirror_mode": {
    "name": "ipython",
    "version": 3
   },
   "file_extension": ".py",
   "mimetype": "text/x-python",
   "name": "python",
   "nbconvert_exporter": "python",
   "pygments_lexer": "ipython3",
   "version": "3.7.3"
  }
 },
 "nbformat": 4,
 "nbformat_minor": 2
}
