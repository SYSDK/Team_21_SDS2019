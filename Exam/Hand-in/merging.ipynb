{
 "cells": [
  {
   "cell_type": "markdown",
   "metadata": {},
   "source": [
    "# Merging datasets"
   ]
  },
  {
   "cell_type": "markdown",
   "metadata": {},
   "source": [
    "### Merge"
   ]
  },
  {
   "cell_type": "code",
   "execution_count": null,
   "metadata": {},
   "outputs": [],
   "source": [
    "# Imports\n",
    "import pandas as pd\n",
    "\n",
    "# Function for removing year from movie title\n",
    "def remove_year(string):\n",
    "    return string.split('(')[0]\n",
    "\n",
    "# Function for getting the year of a datetime\n",
    "def get_year(date):\n",
    "    return date.year\n",
    "\n",
    "# Load datasets\n",
    "imdb = pd.read_pickle('imdb.pkl')\n",
    "rt = pd.read_pickle('rt_clean.pkl')\n",
    "bom = pd.read_pickle('bom_clean.pkl')\n",
    "\n",
    "# Remove years from bom titles\n",
    "bom['title'] = bom['title'].apply(remove_year)\n",
    "\n",
    "# Rename columns in imdb\n",
    "imdb.rename(columns = {'primaryTitle': 'title', 'startYear': 'year'}, inplace = True)\n",
    "\n",
    "# Make year column in Rotten Tomatoes\n",
    "rt['year'] = rt['releaseDate'].apply(get_year)\n",
    "\n",
    "# Function for making titles more comparable\n",
    "def adjust_title(string):\n",
    "    string = string.lower()\n",
    "    string = ''.join(string.split())\n",
    "    \n",
    "    chars = [':', '.', ',', ';', '(', ')', '[', ']', '/', '\\\\', '$', '%', '\"', '\\'', '#', '@', '=', '?', '+', '-']\n",
    "    for char in chars:\n",
    "        string = string.replace(char, '')\n",
    "        \n",
    "    string = string.replace('&', 'and')\n",
    "    \n",
    "    return string\n",
    "\n",
    "# Make a copy of the IMDb dataframe\n",
    "imdb_lower = imdb.copy()\n",
    "\n",
    "# Make titles more comparable\n",
    "imdb_lower['title'] = imdb['title'].apply(adjust_title)\n",
    "rt['title'] = rt['title'].apply(adjust_title)\n",
    "bom['title'] = bom['title'].apply(adjust_title)\n",
    "bud['title'] = bud['title'].apply(adjust_title)\n",
    "\n",
    "# Merge datasets\n",
    "df = rt.merge(imdb_lower, on = ['title', 'year'])\n",
    "df = df.merge(bom, on = ['title', 'year'])"
   ]
  },
  {
   "cell_type": "markdown",
   "metadata": {},
   "source": [
    "### Structuring data"
   ]
  },
  {
   "cell_type": "code",
   "execution_count": null,
   "metadata": {},
   "outputs": [],
   "source": [
    "# Select years\n",
    "df = df[df['year'] >= 2010]\n",
    "\n",
    "# Set index\n",
    "df = df.set_index('tconst')\n",
    "\n",
    "# Get titles from IMDB\n",
    "imdb = imdb.set_index('tconst')\n",
    "df['title'] = imdb['title']\n",
    "\n",
    "# Drop duplicates\n",
    "df = df.drop_duplicates(subset = ['title', 'releaseDate'])\n",
    "\n",
    "# Get the list of actors and directors\n",
    "actors = pd.read_pickle('actors.pkl')\n",
    "directors = pd.read_pickle('directors.pkl')\n",
    "\n",
    "# Create list of top 500 actors and top 100 directors\n",
    "top_500 = actors.iloc[:500]['actor'].tolist()\n",
    "top_100 = directors.iloc[:100]['director'].tolist()\n",
    "\n",
    "# Count the number of top actors and directors\n",
    "df['topActors'] = df['actors'].apply(get_top_actors)\n",
    "df['topDirectors'] = df['directors'].apply(get_top_directors)\n",
    "\n",
    "# Save dataframe\n",
    "df.to_pickle('full.pkl')"
   ]
  }
 ],
 "metadata": {
  "kernelspec": {
   "display_name": "Python 3",
   "language": "python",
   "name": "python3"
  },
  "language_info": {
   "codemirror_mode": {
    "name": "ipython",
    "version": 3
   },
   "file_extension": ".py",
   "mimetype": "text/x-python",
   "name": "python",
   "nbconvert_exporter": "python",
   "pygments_lexer": "ipython3",
   "version": "3.7.3"
  }
 },
 "nbformat": 4,
 "nbformat_minor": 2
}
