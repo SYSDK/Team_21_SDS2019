{
 "cells": [
  {
   "cell_type": "markdown",
   "metadata": {},
   "source": [
    "# Creating figure"
   ]
  },
  {
   "cell_type": "markdown",
   "metadata": {},
   "source": [
    "### Imports"
   ]
  },
  {
   "cell_type": "code",
   "execution_count": null,
   "metadata": {},
   "outputs": [],
   "source": [
    "import pandas as pd\n",
    "import numpy as np\n",
    "import seaborn as sns\n",
    "import matplotlib.pyplot as plt\n",
    "%matplotlib inline"
   ]
  },
  {
   "cell_type": "markdown",
   "metadata": {},
   "source": [
    "### Load data"
   ]
  },
  {
   "cell_type": "code",
   "execution_count": null,
   "metadata": {},
   "outputs": [],
   "source": [
    "# Load dataframe\n",
    "df = pd.read_pickle('full_w_sentiment.pkl')\n",
    "\n",
    "# Convert relevant variables to floats and drop not available\n",
    "df['audienceScore'] = df['audienceScore'].astype(float)\n",
    "df['tomatoMeter'] = df['tomatoMeter'].astype(float)\n",
    "df = df.dropna(subset = ['audienceScore', 'tomatoMeter', 'averageRating'])\n",
    "\n",
    "# Make log transformation of box office\n",
    "df['logBoWorldwide'] = np.log(df['boWorldwide'])\n",
    "\n",
    "# Convert box office into millions\n",
    "df['boWorldwide'] = df['boWorldwide']/10**6"
   ]
  },
  {
   "cell_type": "markdown",
   "metadata": {},
   "source": [
    "### Make histograms"
   ]
  },
  {
   "cell_type": "code",
   "execution_count": null,
   "metadata": {},
   "outputs": [],
   "source": [
    "# Use style\n",
    "plt.style.use('seaborn-deep')\n",
    "\n",
    "# Make figure\n",
    "fig = plt.figure(constrained_layout = True, figsize = (8, 6))\n",
    "gs = fig.add_gridspec(2, 2)\n",
    "ax1 = fig.add_subplot(gs[0, 0])\n",
    "ax2 = fig.add_subplot(gs[0, 1])\n",
    "ax3 = fig.add_subplot(gs[1, :])\n",
    "\n",
    "# Make histograms\n",
    "ax1.hist(df['tomatoMeter'], bins = 10, range = (0, 100))\n",
    "ax2.hist(df['averageRating'], bins = 20, range = (0, 10))\n",
    "ax3.hist(df['boWorldwide'], bins = 16, range = (0, 800))\n",
    "\n",
    "# Set x-axis ticks\n",
    "ax1.set_xticks(np.arange(0, 110, step = 10))\n",
    "ax2.set_xticks(np.arange(0, 11, step = 1))\n",
    "ax3.set_xticks(np.arange(0, 900, step = 100))\n",
    "\n",
    "# Set titles\n",
    "ax1.set_title('(A)  RT Tomatometer')\n",
    "ax2.set_title('(B)  IMDb rating')\n",
    "ax3.set_title('(C)  Worldwide box office')\n",
    "\n",
    "# Set labels\n",
    "ax3.set_xlabel('Millions USD')\n",
    "\n",
    "# Save figure\n",
    "plt.savefig('histograms.pdf', bbox_inches = 'tight')"
   ]
  },
  {
   "cell_type": "markdown",
   "metadata": {},
   "source": [
    "### Scatterplots"
   ]
  },
  {
   "cell_type": "code",
   "execution_count": null,
   "metadata": {},
   "outputs": [],
   "source": [
    "# Make figure\n",
    "fig, axes = plt.subplots(1, 3, figsize = (8, 3))\n",
    "\n",
    "# Drop not available\n",
    "df1 = df.dropna(subset = ['sentimentBefore', 'tomatoMeter'])\n",
    "df2 = df.dropna(subset = ['sentimentBefore', 'averageRating'])\n",
    "df3 = df.dropna(subset = ['sentimentBefore', 'boWorldwide'])\n",
    "\n",
    "# Make regression plots\n",
    "sns.regplot(x = df1[x_var], y = df1['tomatoMeter'], ax = axes[0], ci = None, scatter_kws={'alpha': 0.2})\n",
    "sns.regplot(x = df1[x_var], y = df1['averageRating'], ax = axes[1], ci = None, scatter_kws={'alpha': 0.2})\n",
    "sns.regplot(x = df1[x_var], y = df1['logBoWorldwide'], ax = axes[2], ci = None, scatter_kws={'alpha': 0.2})\n",
    "\n",
    "# Set x-axis labels\n",
    "axes[0].set_xlabel('Sentiment before release')\n",
    "axes[1].set_xlabel('Sentiment before release')\n",
    "axes[2].set_xlabel('Sentiment before release')\n",
    "\n",
    "# Set y-axis labels\n",
    "axes[0].set_ylabel('RT Tomatometer')\n",
    "axes[1].set_ylabel('IMDb rating')\n",
    "axes[2].set_ylabel('Log worldwide box office')\n",
    "\n",
    "# Set titles\n",
    "axes[0].set_title('(A)  Correlation with \\n RT Tomatometer')\n",
    "axes[1].set_title('(B)  Correlation with \\n IMDb rating')\n",
    "axes[2].set_title('(C)  Correlation with \\n box office')\n",
    "\n",
    "# Set y-axis limits\n",
    "axes[2].set_ylim([0, 25])\n",
    "\n",
    "# Adjust spacing\n",
    "plt.subplots_adjust(wspace = 0.35)\n",
    "\n",
    "# Save figure\n",
    "plt.savefig('scatters.pdf', bbox_inches = 'tight')"
   ]
  }
 ],
 "metadata": {
  "kernelspec": {
   "display_name": "Python 3",
   "language": "python",
   "name": "python3"
  },
  "language_info": {
   "codemirror_mode": {
    "name": "ipython",
    "version": 3
   },
   "file_extension": ".py",
   "mimetype": "text/x-python",
   "name": "python",
   "nbconvert_exporter": "python",
   "pygments_lexer": "ipython3",
   "version": "3.7.3"
  }
 },
 "nbformat": 4,
 "nbformat_minor": 2
}
