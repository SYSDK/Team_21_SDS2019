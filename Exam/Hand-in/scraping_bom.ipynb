{
 "cells": [
  {
   "cell_type": "markdown",
   "metadata": {},
   "source": [
    "# Scraping Boxofficemojo"
   ]
  },
  {
   "cell_type": "markdown",
   "metadata": {},
   "source": [
    "### Scraping studio links"
   ]
  },
  {
   "cell_type": "code",
   "execution_count": null,
   "metadata": {},
   "outputs": [],
   "source": [
    "# Imports\n",
    "import requests\n",
    "import pandas as pd\n",
    "from bs4 import BeautifulSoup as bs\n",
    "import time\n",
    "import scraping_class\n",
    "\n",
    "# Get soup\n",
    "logfile = 'sds19exam2.csv'\n",
    "connector = scraping_class.Connector(logfile)\n",
    "response, my_id = connector.get('https://www.boxofficemojo.com/studio/', 'scraping-bom')\n",
    "html = response.text\n",
    "soup = bs(html,'lxml')\n",
    "\n",
    "# Scrape list of studios\n",
    "table_node = soup.find_all('table', attrs = {'border': '0', 'cellspacing': '1', 'cellpadding': '5'})\n",
    "link_nodes = soup.find_all('a', href = True)\n",
    "studios = []\n",
    "for link in link_nodes:\n",
    "    if '/studio/chart/' in link['href']:\n",
    "        studios.append(link['href'].split('&studio=')[1].split('.htm')[0])"
   ]
  },
  {
   "cell_type": "markdown",
   "metadata": {},
   "source": [
    "### Function for scraping a studio's movies"
   ]
  },
  {
   "cell_type": "code",
   "execution_count": null,
   "metadata": {},
   "outputs": [],
   "source": [
    "def get_movies(studio):\n",
    "    i = 1\n",
    "    while True:\n",
    "        # Get HTML\n",
    "        logfile = 'sds19exam2.csv'\n",
    "        connector = scraping_class.Connector(logfile)\n",
    "        response, my_id = connector.get('https://www.boxofficemojo.com/studio/chart/?page=' + str(i) + '&yr=&view=company&view2=allmovies&studio=' + studio + '.htm&p=.htm', 'scraping-bom')\n",
    "        html = response.text\n",
    "        tables = pd.read_html(html, header = 0)\n",
    "        \n",
    "        # Get dataframe\n",
    "        if len(tables) == 2: break\n",
    "        dfs = tables[1]\n",
    "        dfs.drop(dfs.tail(4).index, inplace = True)\n",
    "        dfs.columns = ['boRank', 'title', 'studioAcronym', 'boWorldwide', 'totalTheaters', 'boOpening', 'openingTheaters', 'openDate'] \n",
    "        \n",
    "        # Append dataframe\n",
    "        if i == 1:\n",
    "            dfn = dfs.copy()\n",
    "        else:\n",
    "            dfn = dfn.append(dfs)\n",
    "            \n",
    "        # Next loop\n",
    "        i += 1\n",
    "        time.sleep(1)\n",
    "    try:\n",
    "        return dfn\n",
    "    except:\n",
    "        return None"
   ]
  },
  {
   "cell_type": "markdown",
   "metadata": {},
   "source": [
    "### Scraping all movies"
   ]
  },
  {
   "cell_type": "code",
   "execution_count": null,
   "metadata": {},
   "outputs": [],
   "source": [
    "i = 1\n",
    "for studio in studios:\n",
    "    # Append movies\n",
    "    if i == 1:\n",
    "        dff = get_movies(studio)\n",
    "    else:\n",
    "        try:\n",
    "            dff = dff.append(get_movies(studio))\n",
    "        except:\n",
    "            pass\n",
    "        \n",
    "    # Print iteration number\n",
    "    print(i)\n",
    "    \n",
    "    # Next loop\n",
    "    i += 1\n",
    "    time.sleep(1)"
   ]
  },
  {
   "cell_type": "markdown",
   "metadata": {},
   "source": [
    "### Structuring data"
   ]
  },
  {
   "cell_type": "code",
   "execution_count": null,
   "metadata": {},
   "outputs": [],
   "source": [
    "# Function for converting string to year\n",
    "def convert_year(string):\n",
    "    try:\n",
    "        string = string.split('/')[2]\n",
    "        if string[0] in '23456789':\n",
    "            return int('19' + string)\n",
    "        else:\n",
    "            return int('20' + string)\n",
    "    except:\n",
    "        return None\n",
    "\n",
    "# Function for turning amount of money with ',' and '$' into a number\n",
    "def numerize_money(string):\n",
    "    if isinstance(string, str):\n",
    "        try:\n",
    "            return int(float(string.replace('$', '').replace(',', '')))\n",
    "        except:\n",
    "            return None\n",
    "    else:\n",
    "        return None\n",
    "\n",
    "# Apply functions\n",
    "dff['boOpening'] = dff['boOpening'].apply(numerize_money)\n",
    "dff['boWorldwide'] = dff['boWorldwide'].apply(numerize_money)\n",
    "dff['year'] = dff['openDate'].apply(convert_year)\n",
    "dff['year'] = dff['openDate'].apply(convert_year)\n",
    "dff = dff.drop('openDate', axis = 1)\n",
    "\n",
    "# Save dataframe\n",
    "dff.to_pickle('bom_clean.pkl')"
   ]
  }
 ],
 "metadata": {
  "kernelspec": {
   "display_name": "Python 3",
   "language": "python",
   "name": "python3"
  },
  "language_info": {
   "codemirror_mode": {
    "name": "ipython",
    "version": 3
   },
   "file_extension": ".py",
   "mimetype": "text/x-python",
   "name": "python",
   "nbconvert_exporter": "python",
   "pygments_lexer": "ipython3",
   "version": "3.7.3"
  }
 },
 "nbformat": 4,
 "nbformat_minor": 2
}
