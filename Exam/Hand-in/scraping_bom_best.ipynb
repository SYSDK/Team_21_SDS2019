{
 "cells": [
  {
   "cell_type": "markdown",
   "metadata": {},
   "source": [
    "# Scraping the best actors and directors from Box Office Mojo"
   ]
  },
  {
   "cell_type": "markdown",
   "metadata": {},
   "source": [
    "### Setup"
   ]
  },
  {
   "cell_type": "code",
   "execution_count": null,
   "metadata": {},
   "outputs": [],
   "source": [
    "# Imports\n",
    "import pandas as pd\n",
    "import time\n",
    "\n",
    "# Function for numerizing money strings\n",
    "def numerize_money(string):\n",
    "    if isinstance(string, str):\n",
    "        if 'k' in string:\n",
    "            try:\n",
    "                return round(float(string.replace('$', '').replace(',', '').replace('k', ''))/1000, 1)\n",
    "            except:\n",
    "                return None\n",
    "        else:\n",
    "            try:\n",
    "                return round(float(string.replace('$', '').replace(',', '').replace('k', '')), 1)\n",
    "            except:\n",
    "                return None\n",
    "    else:\n",
    "        return None"
   ]
  },
  {
   "cell_type": "markdown",
   "metadata": {},
   "source": [
    "### Scrape top actors"
   ]
  },
  {
   "cell_type": "code",
   "execution_count": null,
   "metadata": {},
   "outputs": [],
   "source": [
    "# Loop through all pages of actors\n",
    "for i in range(1, 19):\n",
    "    # Get table\n",
    "    tables = pd.read_html('https://www.boxofficemojo.com/people/?view=Actor&pagenum=' + str(i) + '&sort=sumgross&order=DESC&&p=.htm', header = 0)\n",
    "    dfs = tables[2]\n",
    "    \n",
    "    # Clean table a bit\n",
    "    dfs.columns = ['row', 'actor', 'bo', 'numMovies', 'movieAverage', 'picture', 'gross']\n",
    "    dfs = dfs.drop(['row', 'numMovies', 'picture', 'gross'], axis = 1)\n",
    "    \n",
    "    # Append table\n",
    "    if i == 1:\n",
    "        actors = dfs.copy()\n",
    "    else:\n",
    "        actors = actors.append(dfs)\n",
    "        \n",
    "    # Print and wait\n",
    "    print(i)\n",
    "    time.sleep(1)\n",
    "\n",
    "# Convert strings of money into numbers\n",
    "actors['bo'] = actors['bo'].apply(numerize_money)\n",
    "actors['movieAverage'] = actors['movieAverage'].apply(numerize_money)"
   ]
  },
  {
   "cell_type": "markdown",
   "metadata": {},
   "source": [
    "### Scrape top directors"
   ]
  },
  {
   "cell_type": "code",
   "execution_count": null,
   "metadata": {},
   "outputs": [],
   "source": [
    "# Loop through all pages of directors\n",
    "for i in range(1, 20):\n",
    "    tables = pd.read_html('https://www.boxofficemojo.com/people/?view=Director&pagenum=' + str(i) + '&sort=sumgross&order=DESC&&p=.htm', header = 0)\n",
    "    dfs = tables[2]\n",
    "    dfs.columns = ['row', 'director', 'bo', 'numMovies', 'movieAverage', 'picture', 'gross']\n",
    "    dfs = dfs.drop(['row', 'numMovies', 'picture', 'gross'], axis = 1)\n",
    "    if i == 1:\n",
    "        directors = dfs.copy()\n",
    "    else:\n",
    "        directors = directors.append(dfs) \n",
    "    print(i)\n",
    "    time.sleep(1)\n",
    "\n",
    "# Convert strings of money into numbers\n",
    "directors['bo'] = directors['bo'].apply(numerize_money)\n",
    "directors['movieAverage'] = directors['movieAverage'].apply(numerize_money)\n",
    "\n",
    "# Save dataframes\n",
    "actors.to_pickle('actors.pkl')\n",
    "directors.to_pickle('directors.pkl')"
   ]
  }
 ],
 "metadata": {
  "kernelspec": {
   "display_name": "Python 3",
   "language": "python",
   "name": "python3"
  },
  "language_info": {
   "codemirror_mode": {
    "name": "ipython",
    "version": 3
   },
   "file_extension": ".py",
   "mimetype": "text/x-python",
   "name": "python",
   "nbconvert_exporter": "python",
   "pygments_lexer": "ipython3",
   "version": "3.7.3"
  }
 },
 "nbformat": 4,
 "nbformat_minor": 2
}
