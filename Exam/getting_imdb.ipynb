{
 "cells": [
  {
   "cell_type": "code",
   "execution_count": 31,
   "metadata": {
    "scrolled": true
   },
   "outputs": [],
   "source": [
    "import pandas as pd\n",
    "import numpy as np\n",
    "\n",
    "df_ratings = pd.read_csv(r'C:\\Users\\Jacob\\Downloads\\title.ratings.tsv.gz', compression='gzip', sep = '\t')\n",
    "df_title = pd.read_csv(r'C:\\Users\\Jacob\\Downloads\\title.basics.tsv.gz', compression='gzip', sep = '\t')\n",
    "\n",
    "df_title['startYear'] = df_title['startYear'].replace(r'\\N', np.nan)\n",
    "df_title = df_title.dropna()\n",
    "df_title = df_title[df_title['titleType'] == 'movie']\n",
    "df_title['startYear'] = pd.to_numeric(df_title['startYear'])\n",
    "df_title = df_title[df_title['startYear'] >= 2005]\n",
    "\n",
    "dfi = df_title.merge(df_ratings, on = 'tconst')\n",
    "dfi = dfi[dfi['numVotes'] >= 1000]\n",
    "\n",
    "dfi.to_pickle('imdb.pkl')"
   ]
  }
 ],
 "metadata": {
  "kernelspec": {
   "display_name": "Python 3",
   "language": "python",
   "name": "python3"
  },
  "language_info": {
   "codemirror_mode": {
    "name": "ipython",
    "version": 3
   },
   "file_extension": ".py",
   "mimetype": "text/x-python",
   "name": "python",
   "nbconvert_exporter": "python",
   "pygments_lexer": "ipython3",
   "version": "3.7.3"
  }
 },
 "nbformat": 4,
 "nbformat_minor": 2
}
