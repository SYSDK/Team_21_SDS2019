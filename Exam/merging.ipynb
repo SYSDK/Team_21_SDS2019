{
 "cells": [
  {
   "cell_type": "markdown",
   "metadata": {},
   "source": [
    "### Merging datasets"
   ]
  },
  {
   "cell_type": "code",
   "execution_count": 134,
   "metadata": {},
   "outputs": [],
   "source": [
    "import pandas as pd\n",
    "\n",
    "def remove_year(string):\n",
    "    return string.split('(')[0]\n",
    "\n",
    "def get_year(date):\n",
    "    return date.year\n",
    "\n",
    "# Load datasets\n",
    "imdb = pd.read_pickle('imdb.pkl')\n",
    "rt = pd.read_pickle('rt_clean.pkl')\n",
    "bom = pd.read_pickle('bom_clean.pkl')\n",
    "\n",
    "# Remove years from bom titles\n",
    "bom['title'] = bom['title'].apply(remove_year)\n",
    "\n",
    "# Rename columns in imdb\n",
    "imdb.rename(columns = {'primaryTitle': 'title', 'startYear': 'year'}, inplace = True)\n",
    "\n",
    "# Make year column in Rotten Tomatoes\n",
    "rt['year'] = rt['releaseDate'].apply(get_year)\n",
    "\n",
    "# Lowercase titles\n",
    "imdb_lower = imdb.copy()\n",
    "imdb_lower['title'] = imdb['title'].str.lower()\n",
    "rt['title'] = rt['title'].str.lower()\n",
    "bom['title'] = bom['title'].str.lower()\n",
    "\n",
    "# Merge datasets\n",
    "df = rt.merge(imdb_lower, on = ['title', 'year'])\n",
    "df = df.merge(bom, on = ['title', 'year'])"
   ]
  },
  {
   "cell_type": "markdown",
   "metadata": {},
   "source": [
    "### Structuring data"
   ]
  },
  {
   "cell_type": "code",
   "execution_count": 135,
   "metadata": {},
   "outputs": [],
   "source": [
    "# Drop NA\n",
    "#df = df.dropna()\n",
    "\n",
    "# Select years\n",
    "#df = df[df['year'] >= 2013]\n",
    "\n",
    "# Set index\n",
    "df = df.set_index('tconst')\n",
    "\n",
    "# Get titles from IMDB\n",
    "imdb = imdb.set_index('tconst')\n",
    "df['title'] = imdb['title']\n",
    "\n",
    "df.to_pickle('full.pkl')"
   ]
  },
  {
   "cell_type": "code",
   "execution_count": 61,
   "metadata": {},
   "outputs": [],
   "source": [
    "import numpy as np\n",
    "import seaborn as sns\n",
    "import matplotlib.pyplot as plt\n",
    "%matplotlib inline \n",
    "\n",
    "# Density plots\n",
    "# data = df['audienceScore']\n",
    "# sns.set_style('whitegrid')\n",
    "# sns.kdeplot(np.array(data), bw = 5)\n",
    "\n",
    "plt.figure(figsize = (10, 6))\n",
    "\n",
    "sns.regplot(x = 'audienceScore', y = 'averageRating', data = df)"
   ]
  }
 ],
 "metadata": {
  "kernelspec": {
   "display_name": "Python 3",
   "language": "python",
   "name": "python3"
  },
  "language_info": {
   "codemirror_mode": {
    "name": "ipython",
    "version": 3
   },
   "file_extension": ".py",
   "mimetype": "text/x-python",
   "name": "python",
   "nbconvert_exporter": "python",
   "pygments_lexer": "ipython3",
   "version": "3.7.3"
  }
 },
 "nbformat": 4,
 "nbformat_minor": 2
}
