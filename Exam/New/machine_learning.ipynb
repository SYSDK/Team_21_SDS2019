{
 "cells": [
  {
   "cell_type": "markdown",
   "metadata": {},
   "source": [
    "### Imports"
   ]
  },
  {
   "cell_type": "code",
   "execution_count": 8,
   "metadata": {},
   "outputs": [],
   "source": [
    "import pandas as pd\n",
    "import numpy as np\n",
    "from sklearn.linear_model import Lasso, LinearRegression, Ridge, ElasticNet\n",
    "from sklearn.pipeline import make_pipeline\n",
    "from sklearn.model_selection import GridSearchCV, train_test_split\n",
    "from sklearn.preprocessing import StandardScaler"
   ]
  },
  {
   "cell_type": "markdown",
   "metadata": {},
   "source": [
    "### Structuring data"
   ]
  },
  {
   "cell_type": "code",
   "execution_count": 3,
   "metadata": {},
   "outputs": [],
   "source": [
    "df = pd.read_pickle('full_no_budgets_w_sentiment.pkl')\n",
    "\n",
    "### TEMPORARY\n",
    "#df = df.drop_duplicates(subset = ['title', 'year'])\n",
    "\n",
    "#budgets = pd.read_pickle('budgets_clean.pkl')\n",
    "#budgets = budgets.drop('releaseDate', axis = 1)\n",
    "#df = df.merge(budgets, on = ['title', 'year'])\n",
    "### TEMPORARY\n",
    "\n",
    "def possible_values(df, colname):\n",
    "    out = set([])\n",
    "    for row in df[colname]:\n",
    "        for g in row:\n",
    "            out.add(g)\n",
    "    return out\n",
    "\n",
    "def dummies_from_nested_categories(df, colname):\n",
    "    possible_valuess = possible_values(df, colname)\n",
    "    \n",
    "    def clean(s):\n",
    "        return s.replace(' ', '').replace('&', '').lower()\n",
    "    \n",
    "    for pos in possible_valuess:\n",
    "        df['d_' + clean(pos)] = df[colname].apply(lambda x: pos in x).astype(int)\n",
    "    return df\n",
    "\n",
    "\n",
    "# Create dummies for mpaaRating\n",
    "dummies = pd.get_dummies(df['mpaaRating'])\n",
    "df = pd.concat([df, dummies], axis = 1)\n",
    "\n",
    "# Create dummies for genres\n",
    "dummies_from_nested_categories(df, 'genres')\n",
    "\n",
    "# Create dummies for studio\n",
    "dummies = pd.get_dummies(df['studio'])\n",
    "df = pd.concat([df, dummies], axis = 1)\n",
    "\n",
    "# Create dummies for actors\n",
    "#dummies_from_nested_categories(df, 'actors')\n",
    "#dummies_from_nested_categories(df, 'directors')\n",
    "\n",
    "data = df.drop(['actors', 'mpaaRating', 'synopsis', 'title', 'tomatoIcon', 'releaseDate', 'genres', 'directors', \\\n",
    "                'studio', 'tomatoCount', 'audienceCount', 'year', 'titleType', \\\n",
    "                'isAdult', 'numVotes', 'boRank', 'studioAcronym', 'totalTheaters', \\\n",
    "                'boOpening', 'openingTheaters', 'sentimentAfter', 'numCommentsAfter'], axis = 1)\n",
    "\n",
    "def get_float(string):\n",
    "    try:\n",
    "        return float(string)\n",
    "    except:\n",
    "        return None\n",
    "\n",
    "items = ['tomatoMeter', 'audienceScore', 'runtime', 'boWorldwide']\n",
    "for item in items:\n",
    "    data[item] = data[item].apply(get_float)\n",
    "    #print(item)\n",
    "    #print(data.shape)\n",
    "\n",
    "data = data.dropna(subset = items)"
   ]
  },
  {
   "cell_type": "code",
   "execution_count": 9,
   "metadata": {},
   "outputs": [],
   "source": [
    "# Temporary\n",
    "# def get_top_actors(lst):\n",
    "#     count = 0\n",
    "#     for item in lst:\n",
    "#         if item in top_500:\n",
    "#             count += 1\n",
    "#     return count\n",
    "\n",
    "# def get_top_directors(lst):\n",
    "#     count = 0\n",
    "#     for item in lst:\n",
    "#         if item in top_100:\n",
    "#             count += 1\n",
    "#     return count\n",
    "\n",
    "# actors = pd.read_pickle('actors.pkl')\n",
    "# directors = pd.read_pickle('directors.pkl')\n",
    "\n",
    "# top_500 = actors.iloc[:500]['actor'].tolist()\n",
    "# top_100 = directors.iloc[:100]['director'].tolist()\n",
    "\n",
    "# data['topActors'] = df['actors'].apply(get_top_actors)\n",
    "# data['topDirectors'] = df['directors'].apply(get_top_directors)"
   ]
  },
  {
   "cell_type": "markdown",
   "metadata": {},
   "source": [
    "### Setup for ML"
   ]
  },
  {
   "cell_type": "code",
   "execution_count": 5,
   "metadata": {},
   "outputs": [],
   "source": [
    "train, test = train_test_split(data, test_size = 0.2)\n",
    "\n",
    "y_train = train['tomatoMeter', 'audienceScore', 'averageRating', 'boWorldwide']\n",
    "y_train['boWorldwide'] = np.log(y_train['boWorldwide'])\n",
    "y_test = test['tomatoMeter', 'audienceScore', 'averageRating', 'boWorldwide']\n",
    "y_test['boWorldwide'] = np.log(y_train['boWorldwide'])\n",
    "\n",
    "X_train = train.drop(['tomatoMeter', 'audienceScore', 'averageRating', 'boWorldwide'], axis = 1)\n",
    "X_test = test.drop(['tomatoMeter', 'audienceScore', 'averageRating', 'boWorldwide'], axis = 1)"
   ]
  },
  {
   "cell_type": "markdown",
   "metadata": {},
   "source": [
    "### Linear regression"
   ]
  },
  {
   "cell_type": "code",
   "execution_count": null,
   "metadata": {},
   "outputs": [],
   "source": [
    "lreg = LinearRegression()\n",
    "\n",
    "for target in y_train:\n",
    "    lreg.fit(X_train, y_train['audienceScore'])"
   ]
  },
  {
   "cell_type": "markdown",
   "metadata": {},
   "source": [
    "### Lasso"
   ]
  },
  {
   "cell_type": "code",
   "execution_count": 6,
   "metadata": {},
   "outputs": [
    {
     "name": "stdout",
     "output_type": "stream",
     "text": [
      "Fitting 10 folds for each of 12 candidates, totalling 120 fits\n"
     ]
    },
    {
     "name": "stderr",
     "output_type": "stream",
     "text": [
      "[Parallel(n_jobs=-1)]: Using backend LokyBackend with 8 concurrent workers.\n",
      "[Parallel(n_jobs=-1)]: Done   2 tasks      | elapsed:    2.6s\n",
      "[Parallel(n_jobs=-1)]: Done   9 tasks      | elapsed:    3.1s\n",
      "[Parallel(n_jobs=-1)]: Done  16 tasks      | elapsed:    3.9s\n",
      "[Parallel(n_jobs=-1)]: Done  25 tasks      | elapsed:    4.9s\n",
      "[Parallel(n_jobs=-1)]: Done  34 tasks      | elapsed:    5.4s\n",
      "[Parallel(n_jobs=-1)]: Done  45 tasks      | elapsed:    5.6s\n",
      "[Parallel(n_jobs=-1)]: Done  56 tasks      | elapsed:    5.7s\n",
      "[Parallel(n_jobs=-1)]: Batch computation too fast (0.1989s.) Setting batch_size=2.\n",
      "[Parallel(n_jobs=-1)]: Done  69 tasks      | elapsed:    5.9s\n",
      "[Parallel(n_jobs=-1)]: Done  85 tasks      | elapsed:    6.1s\n",
      "[Parallel(n_jobs=-1)]: Done 105 out of 120 | elapsed:    6.3s remaining:    0.8s\n",
      "[Parallel(n_jobs=-1)]: Done 118 out of 120 | elapsed:    6.4s remaining:    0.0s\n",
      "[Parallel(n_jobs=-1)]: Done 120 out of 120 | elapsed:    6.4s finished\n",
      "C:\\Users\\Jacob\\Anaconda3\\lib\\site-packages\\sklearn\\preprocessing\\data.py:645: DataConversionWarning: Data with input dtype uint8, int32, int64, float64 were all converted to float64 by StandardScaler.\n",
      "  return self.partial_fit(X, y)\n",
      "C:\\Users\\Jacob\\Anaconda3\\lib\\site-packages\\sklearn\\base.py:467: DataConversionWarning: Data with input dtype uint8, int32, int64, float64 were all converted to float64 by StandardScaler.\n",
      "  return self.fit(X, y, **fit_params).transform(X)\n"
     ]
    },
    {
     "data": {
      "text/plain": [
       "GridSearchCV(cv=10, error_score='raise-deprecating',\n",
       "       estimator=Pipeline(memory=None,\n",
       "     steps=[('standardscaler', StandardScaler(copy=True, with_mean=True, with_std=True)), ('lasso', Lasso(alpha=1.0, copy_X=True, fit_intercept=True, max_iter=1000,\n",
       "   normalize=False, positive=False, precompute=False, random_state=1,\n",
       "   selection='cyclic', tol=0.0001, warm_start=False))]),\n",
       "       fit_params=None, iid=False, n_jobs=-1,\n",
       "       param_grid={'lasso__alpha': array([1.00000e-04, 5.33670e-04, 2.84804e-03, 1.51991e-02, 8.11131e-02,\n",
       "       4.32876e-01, 2.31013e+00, 1.23285e+01, 6.57933e+01, 3.51119e+02,\n",
       "       1.87382e+03, 1.00000e+04])},\n",
       "       pre_dispatch='2*n_jobs', refit=True, return_train_score='warn',\n",
       "       scoring='r2', verbose=10)"
      ]
     },
     "execution_count": 6,
     "metadata": {},
     "output_type": "execute_result"
    }
   ],
   "source": [
    "pipe = make_pipeline(StandardScaler(), Lasso(random_state = 1))\n",
    "\n",
    "gs_lasso = GridSearchCV(estimator = pipe, param_grid = {'lasso__alpha': np.logspace(-4, 4, 12)}, \\\n",
    "                  scoring = 'r2', n_jobs = -1, iid = False, cv = 10, verbose = 10)\n",
    "\n",
    "gs_lasso.fit(X_train, train['audienceScore'])"
   ]
  },
  {
   "cell_type": "markdown",
   "metadata": {},
   "source": [
    "### Elastic net"
   ]
  },
  {
   "cell_type": "code",
   "execution_count": null,
   "metadata": {},
   "outputs": [],
   "source": [
    "from sklearn.linear_model import ElasticNet\n",
    "\n",
    "train, test = train_test_split(data, test_size = 0.2)\n",
    "\n",
    "X_train = train.drop(['tomatoMeter', 'audienceScore', 'averageRating', 'boWorldwide'], axis = 1)\n",
    "X_test = test.drop(['tomatoMeter', 'audienceScore', 'averageRating', 'boWorldwide'], axis = 1)\n",
    "\n",
    "pipe = make_pipeline(ElasticNet(random_state = 1))\n",
    "gs = GridSearchCV(estimator = pipe, param_grid = {'elasticnet__alpha': np.logspace(-4, 4, 12), \\\n",
    "                  'elasticnet__l1_ratio': [0, 0.25, 0.5, 0.75, 1]}, \\\n",
    "                  scoring = 'r2', n_jobs = -1, iid = False, cv = 10, verbose = 10)\n",
    "\n",
    "gs.fit(X_train, train['audienceScore'])"
   ]
  },
  {
   "cell_type": "code",
   "execution_count": 7,
   "metadata": {},
   "outputs": [
    {
     "name": "stdout",
     "output_type": "stream",
     "text": [
      "0.1984595342737087\n",
      "{'lasso__alpha': 0.43287612810830617}\n"
     ]
    },
    {
     "name": "stderr",
     "output_type": "stream",
     "text": [
      "C:\\Users\\Jacob\\Anaconda3\\lib\\site-packages\\sklearn\\pipeline.py:331: DataConversionWarning: Data with input dtype uint8, int32, int64, float64 were all converted to float64 by StandardScaler.\n",
      "  Xt = transform.transform(Xt)\n",
      "C:\\Users\\Jacob\\Anaconda3\\lib\\site-packages\\ipykernel_launcher.py:1: SettingWithCopyWarning: \n",
      "A value is trying to be set on a copy of a slice from a DataFrame.\n",
      "Try using .loc[row_indexer,col_indexer] = value instead\n",
      "\n",
      "See the caveats in the documentation: http://pandas.pydata.org/pandas-docs/stable/indexing.html#indexing-view-versus-copy\n",
      "  \"\"\"Entry point for launching an IPython kernel.\n"
     ]
    }
   ],
   "source": [
    "test['predicted'] = gs.predict(X_test)\n",
    "print(gs.best_score_)\n",
    "print(gs.best_params_)"
   ]
  },
  {
   "cell_type": "code",
   "execution_count": null,
   "metadata": {},
   "outputs": [],
   "source": [
    "import seaborn as sns\n",
    "%matplotlib inline\n",
    "\n",
    "sns.regplot('audienceScore', 'predicted', ci = None, data = test)"
   ]
  },
  {
   "cell_type": "code",
   "execution_count": null,
   "metadata": {},
   "outputs": [],
   "source": [
    "for item in X_train.columns:\n",
    "    print(item)"
   ]
  },
  {
   "cell_type": "code",
   "execution_count": null,
   "metadata": {},
   "outputs": [],
   "source": [
    "X_train"
   ]
  }
 ],
 "metadata": {
  "kernelspec": {
   "display_name": "Python 3",
   "language": "python",
   "name": "python3"
  },
  "language_info": {
   "codemirror_mode": {
    "name": "ipython",
    "version": 3
   },
   "file_extension": ".py",
   "mimetype": "text/x-python",
   "name": "python",
   "nbconvert_exporter": "python",
   "pygments_lexer": "ipython3",
   "version": "3.7.3"
  }
 },
 "nbformat": 4,
 "nbformat_minor": 2
}
