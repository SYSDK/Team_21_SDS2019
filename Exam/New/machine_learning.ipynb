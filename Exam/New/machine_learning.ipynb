{
 "cells": [
  {
   "cell_type": "markdown",
   "metadata": {},
   "source": [
    "### Imports"
   ]
  },
  {
   "cell_type": "code",
   "execution_count": 62,
   "metadata": {},
   "outputs": [],
   "source": [
    "import pandas as pd\n",
    "import numpy as np\n",
    "import matplotlib.pyplot as plt\n",
    "from sklearn.linear_model import Lasso, LinearRegression, ElasticNet\n",
    "from sklearn.pipeline import make_pipeline\n",
    "from sklearn.model_selection import GridSearchCV, train_test_split\n",
    "from sklearn.preprocessing import StandardScaler\n",
    "from sklearn.metrics import r2_score, mean_squared_error\n",
    "from sklearn.model_selection import validation_curve\n",
    "%matplotlib inline"
   ]
  },
  {
   "cell_type": "markdown",
   "metadata": {},
   "source": [
    "### Structuring data"
   ]
  },
  {
   "cell_type": "code",
   "execution_count": 2,
   "metadata": {},
   "outputs": [],
   "source": [
    "df = pd.read_pickle('full_no_budgets_w_sentiment.pkl')\n",
    "\n",
    "### TEMPORARY\n",
    "#df = df.drop_duplicates(subset = ['title', 'year'])\n",
    "\n",
    "#budgets = pd.read_pickle('budgets_clean.pkl')\n",
    "#budgets = budgets.drop('releaseDate', axis = 1)\n",
    "#df = df.merge(budgets, on = ['title', 'year'])\n",
    "### TEMPORARY\n",
    "\n",
    "def possible_values(df, colname):\n",
    "    out = set([])\n",
    "    for row in df[colname]:\n",
    "        for g in row:\n",
    "            out.add(g)\n",
    "    return out\n",
    "\n",
    "def dummies_from_nested_categories(df, colname):\n",
    "    possible_valuess = possible_values(df, colname)\n",
    "    \n",
    "    def clean(s):\n",
    "        return s.replace(' ', '').replace('&', '').lower()\n",
    "    \n",
    "    for pos in possible_valuess:\n",
    "        df['d_' + clean(pos)] = df[colname].apply(lambda x: pos in x).astype(int)\n",
    "    return df\n",
    "\n",
    "\n",
    "# Create dummies for mpaaRating\n",
    "dummies = pd.get_dummies(df['mpaaRating'])\n",
    "df = pd.concat([df, dummies], axis = 1)\n",
    "\n",
    "# Create dummies for genres\n",
    "dummies_from_nested_categories(df, 'genres')\n",
    "\n",
    "# Create dummies for studio\n",
    "dummies = pd.get_dummies(df['studio'])\n",
    "df = pd.concat([df, dummies], axis = 1)\n",
    "\n",
    "# Create dummies for actors\n",
    "#dummies_from_nested_categories(df, 'actors')\n",
    "#dummies_from_nested_categories(df, 'directors')\n",
    "\n",
    "data = df.drop(['actors', 'mpaaRating', 'synopsis', 'title', 'tomatoIcon', 'releaseDate', 'genres', 'directors', \\\n",
    "                'studio', 'tomatoCount', 'audienceCount', 'year', 'titleType', \\\n",
    "                'isAdult', 'numVotes', 'boRank', 'studioAcronym', 'totalTheaters', \\\n",
    "                'boOpening', 'openingTheaters', 'sentimentAfter', 'numCommentsAfter', 'positiveWordsAfter'], axis = 1)\n",
    "\n",
    "data_wo = data.copy()\n",
    "data_wo = data_wo.drop(['sentimentBefore', 'numCommentsBefore', 'positiveWordsBefore'], axis = 1)\n",
    "\n",
    "def get_float(string):\n",
    "    try:\n",
    "        return float(string)\n",
    "    except:\n",
    "        return None\n",
    "\n",
    "items = ['tomatoMeter', 'audienceScore', 'runtime', 'boWorldwide']\n",
    "for item in items:\n",
    "    data[item] = data[item].apply(get_float)\n",
    "    #print(item)\n",
    "    #print(data.shape)\n",
    "\n",
    "data = data.dropna(subset = items)"
   ]
  },
  {
   "cell_type": "code",
   "execution_count": null,
   "metadata": {},
   "outputs": [],
   "source": [
    "# Temporary\n",
    "# def get_top_actors(lst):\n",
    "#     count = 0\n",
    "#     for item in lst:\n",
    "#         if item in top_500:\n",
    "#             count += 1\n",
    "#     return count\n",
    "\n",
    "# def get_top_directors(lst):\n",
    "#     count = 0\n",
    "#     for item in lst:\n",
    "#         if item in top_100:\n",
    "#             count += 1\n",
    "#     return count\n",
    "\n",
    "# actors = pd.read_pickle('actors.pkl')\n",
    "# directors = pd.read_pickle('directors.pkl')\n",
    "\n",
    "# top_500 = actors.iloc[:500]['actor'].tolist()\n",
    "# top_100 = directors.iloc[:100]['director'].tolist()\n",
    "\n",
    "# data['topActors'] = df['actors'].apply(get_top_actors)\n",
    "# data['topDirectors'] = df['directors'].apply(get_top_directors)"
   ]
  },
  {
   "cell_type": "markdown",
   "metadata": {},
   "source": [
    "### Setup for ML"
   ]
  },
  {
   "cell_type": "code",
   "execution_count": 3,
   "metadata": {},
   "outputs": [
    {
     "name": "stderr",
     "output_type": "stream",
     "text": [
      "C:\\Users\\Jacob\\Anaconda3\\lib\\site-packages\\ipykernel_launcher.py:4: SettingWithCopyWarning: \n",
      "A value is trying to be set on a copy of a slice from a DataFrame.\n",
      "Try using .loc[row_indexer,col_indexer] = value instead\n",
      "\n",
      "See the caveats in the documentation: http://pandas.pydata.org/pandas-docs/stable/indexing.html#indexing-view-versus-copy\n",
      "  after removing the cwd from sys.path.\n",
      "C:\\Users\\Jacob\\Anaconda3\\lib\\site-packages\\ipykernel_launcher.py:6: SettingWithCopyWarning: \n",
      "A value is trying to be set on a copy of a slice from a DataFrame.\n",
      "Try using .loc[row_indexer,col_indexer] = value instead\n",
      "\n",
      "See the caveats in the documentation: http://pandas.pydata.org/pandas-docs/stable/indexing.html#indexing-view-versus-copy\n",
      "  \n"
     ]
    }
   ],
   "source": [
    "train, test = train_test_split(data, test_size = 0.25)\n",
    "\n",
    "y_train = train[['tomatoMeter', 'audienceScore', 'averageRating', 'boWorldwide']]\n",
    "y_train['boWorldwide'] = np.log(y_train['boWorldwide'])\n",
    "y_test = test[['tomatoMeter', 'audienceScore', 'averageRating', 'boWorldwide']]\n",
    "y_test['boWorldwide'] = np.log(y_test['boWorldwide'])\n",
    "\n",
    "X_train = train.drop(['tomatoMeter', 'audienceScore', 'averageRating', 'boWorldwide'], axis = 1)\n",
    "X_test = test.drop(['tomatoMeter', 'audienceScore', 'averageRating', 'boWorldwide'], axis = 1)"
   ]
  },
  {
   "cell_type": "markdown",
   "metadata": {},
   "source": [
    "### Linear regression"
   ]
  },
  {
   "cell_type": "code",
   "execution_count": 4,
   "metadata": {},
   "outputs": [
    {
     "name": "stdout",
     "output_type": "stream",
     "text": [
      "tomatoMeter: 582297756151776.6 -768725213966.7607\n",
      "audienceScore: 31427967980845.152 -85859521500.45923\n",
      "averageRating: 429259479064.39655 -445092158969.0723\n",
      "boWorldwide: 8899704374668.555 -1022341826447.849\n"
     ]
    }
   ],
   "source": [
    "lregs = []\n",
    "\n",
    "i = 1\n",
    "for target in y_train:\n",
    "    lreg = LinearRegression()\n",
    "    lreg.fit(X_train, y_train[target])\n",
    "\n",
    "    print(target + ':', mean_squared_error(y_test[target], lreg.predict(X_test)), r2_score(y_test[target], lreg.predict(X_test)))\n",
    "    lregs.append(lreg)"
   ]
  },
  {
   "cell_type": "markdown",
   "metadata": {},
   "source": [
    "### Lasso"
   ]
  },
  {
   "cell_type": "code",
   "execution_count": 125,
   "metadata": {},
   "outputs": [
    {
     "name": "stderr",
     "output_type": "stream",
     "text": [
      "C:\\Users\\Jacob\\Anaconda3\\lib\\site-packages\\sklearn\\preprocessing\\data.py:645: DataConversionWarning: Data with input dtype uint8, int32, int64, float64 were all converted to float64 by StandardScaler.\n",
      "  return self.partial_fit(X, y)\n",
      "C:\\Users\\Jacob\\Anaconda3\\lib\\site-packages\\sklearn\\base.py:467: DataConversionWarning: Data with input dtype uint8, int32, int64, float64 were all converted to float64 by StandardScaler.\n",
      "  return self.fit(X, y, **fit_params).transform(X)\n",
      "C:\\Users\\Jacob\\Anaconda3\\lib\\site-packages\\sklearn\\pipeline.py:331: DataConversionWarning: Data with input dtype uint8, int32, int64, float64 were all converted to float64 by StandardScaler.\n",
      "  Xt = transform.transform(Xt)\n",
      "C:\\Users\\Jacob\\Anaconda3\\lib\\site-packages\\sklearn\\pipeline.py:331: DataConversionWarning: Data with input dtype uint8, int32, int64, float64 were all converted to float64 by StandardScaler.\n",
      "  Xt = transform.transform(Xt)\n"
     ]
    },
    {
     "name": "stdout",
     "output_type": "stream",
     "text": [
      "tomatoMeter: 617.7288096988972 0.18450018672910518\n"
     ]
    },
    {
     "name": "stderr",
     "output_type": "stream",
     "text": [
      "C:\\Users\\Jacob\\Anaconda3\\lib\\site-packages\\sklearn\\preprocessing\\data.py:645: DataConversionWarning: Data with input dtype uint8, int32, int64, float64 were all converted to float64 by StandardScaler.\n",
      "  return self.partial_fit(X, y)\n",
      "C:\\Users\\Jacob\\Anaconda3\\lib\\site-packages\\sklearn\\base.py:467: DataConversionWarning: Data with input dtype uint8, int32, int64, float64 were all converted to float64 by StandardScaler.\n",
      "  return self.fit(X, y, **fit_params).transform(X)\n",
      "C:\\Users\\Jacob\\Anaconda3\\lib\\site-packages\\sklearn\\pipeline.py:331: DataConversionWarning: Data with input dtype uint8, int32, int64, float64 were all converted to float64 by StandardScaler.\n",
      "  Xt = transform.transform(Xt)\n",
      "C:\\Users\\Jacob\\Anaconda3\\lib\\site-packages\\sklearn\\pipeline.py:331: DataConversionWarning: Data with input dtype uint8, int32, int64, float64 were all converted to float64 by StandardScaler.\n",
      "  Xt = transform.transform(Xt)\n"
     ]
    },
    {
     "name": "stdout",
     "output_type": "stream",
     "text": [
      "audienceScore: 276.22121788185797 0.24537846002830033\n"
     ]
    },
    {
     "name": "stderr",
     "output_type": "stream",
     "text": [
      "C:\\Users\\Jacob\\Anaconda3\\lib\\site-packages\\sklearn\\preprocessing\\data.py:645: DataConversionWarning: Data with input dtype uint8, int32, int64, float64 were all converted to float64 by StandardScaler.\n",
      "  return self.partial_fit(X, y)\n",
      "C:\\Users\\Jacob\\Anaconda3\\lib\\site-packages\\sklearn\\base.py:467: DataConversionWarning: Data with input dtype uint8, int32, int64, float64 were all converted to float64 by StandardScaler.\n",
      "  return self.fit(X, y, **fit_params).transform(X)\n",
      "C:\\Users\\Jacob\\Anaconda3\\lib\\site-packages\\sklearn\\pipeline.py:331: DataConversionWarning: Data with input dtype uint8, int32, int64, float64 were all converted to float64 by StandardScaler.\n",
      "  Xt = transform.transform(Xt)\n",
      "C:\\Users\\Jacob\\Anaconda3\\lib\\site-packages\\sklearn\\pipeline.py:331: DataConversionWarning: Data with input dtype uint8, int32, int64, float64 were all converted to float64 by StandardScaler.\n",
      "  Xt = transform.transform(Xt)\n"
     ]
    },
    {
     "name": "stdout",
     "output_type": "stream",
     "text": [
      "averageRating: 0.7262667203205553 0.2469458723657083\n",
      "boWorldwide: 2.9283044908128053 0.6636148757865428\n"
     ]
    },
    {
     "name": "stderr",
     "output_type": "stream",
     "text": [
      "C:\\Users\\Jacob\\Anaconda3\\lib\\site-packages\\sklearn\\preprocessing\\data.py:645: DataConversionWarning: Data with input dtype uint8, int32, int64, float64 were all converted to float64 by StandardScaler.\n",
      "  return self.partial_fit(X, y)\n",
      "C:\\Users\\Jacob\\Anaconda3\\lib\\site-packages\\sklearn\\base.py:467: DataConversionWarning: Data with input dtype uint8, int32, int64, float64 were all converted to float64 by StandardScaler.\n",
      "  return self.fit(X, y, **fit_params).transform(X)\n",
      "C:\\Users\\Jacob\\Anaconda3\\lib\\site-packages\\sklearn\\pipeline.py:331: DataConversionWarning: Data with input dtype uint8, int32, int64, float64 were all converted to float64 by StandardScaler.\n",
      "  Xt = transform.transform(Xt)\n",
      "C:\\Users\\Jacob\\Anaconda3\\lib\\site-packages\\sklearn\\pipeline.py:331: DataConversionWarning: Data with input dtype uint8, int32, int64, float64 were all converted to float64 by StandardScaler.\n",
      "  Xt = transform.transform(Xt)\n"
     ]
    }
   ],
   "source": [
    "pipe = make_pipeline(StandardScaler(), Lasso(random_state = 1))\n",
    "\n",
    "gs_lassos = []\n",
    "for target in y_train:\n",
    "    gs_lasso = GridSearchCV(estimator = pipe, param_grid = {'lasso__alpha': np.logspace(-4, 4, 12)}, \\\n",
    "                      scoring = 'neg_mean_squared_error', n_jobs = -1, iid = False, cv = 10, verbose = 0)\n",
    "    gs_lasso.fit(X_train, y_train[target])\n",
    "\n",
    "    print(target + ':', mean_squared_error(y_test[target], gs_lasso.best_estimator_.predict(X_test)), r2_score(y_test[target], gs_lasso.best_estimator_.predict(X_test)))\n",
    "    gs_lassos.append(gs_lasso)"
   ]
  },
  {
   "cell_type": "markdown",
   "metadata": {},
   "source": [
    "### Coefficients"
   ]
  },
  {
   "cell_type": "code",
   "execution_count": 142,
   "metadata": {},
   "outputs": [
    {
     "name": "stdout",
     "output_type": "stream",
     "text": [
      "0.010973595511342846\n",
      "0.0\n"
     ]
    }
   ],
   "source": [
    "print(gs_lassos[2].best_estimator_.steps[1][1].coef_[3])\n",
    "print(gs_lassos[3].best_estimator_.steps[1][1].coef_[3])"
   ]
  },
  {
   "cell_type": "markdown",
   "metadata": {},
   "source": [
    "### Validation curves"
   ]
  },
  {
   "cell_type": "code",
   "execution_count": 126,
   "metadata": {},
   "outputs": [
    {
     "name": "stderr",
     "output_type": "stream",
     "text": [
      "C:\\Users\\Jacob\\Anaconda3\\lib\\site-packages\\sklearn\\utils\\deprecation.py:125: FutureWarning: You are accessing a training score ('mean_train_score'), which will not be available by default any more in 0.21. If you need training scores, please set return_train_score=True\n",
      "  warnings.warn(*warn_args, **warn_kwargs)\n"
     ]
    },
    {
     "data": {
      "image/png": "[encoded data removed]",
      "text/plain": [
       "<Figure size 576x216 with 2 Axes>"
      ]
     },
     "metadata": {
      "needs_background": "light"
     },
     "output_type": "display_data"
    }
   ],
   "source": [
    "plt.style.use('seaborn-deep')\n",
    "\n",
    "fig, axes = plt.subplots(1, 2, figsize = (8, 3))\n",
    "\n",
    "lasso_audience_val = pd.DataFrame()\n",
    "lasso_audience_val['Validation'] = -gs_lassos[2].cv_results_['mean_test_score']\n",
    "lasso_audience_val['Train'] = -gs_lassos[2].cv_results_['mean_train_score']\n",
    "lasso_audience_val['Lambda'] = np.logspace(-4, 4, 12)\n",
    "lasso_audience_val = lasso_audience_val.set_index('Lambda')\n",
    "lasso_audience_val.plot(logx = True, logy = True, ax = axes[0])\n",
    "\n",
    "lasso_bo_val = pd.DataFrame()\n",
    "lasso_bo_val['Validation'] = -gs_lassos[3].cv_results_['mean_test_score']\n",
    "lasso_bo_val['Train'] = -gs_lassos[3].cv_results_['mean_train_score']\n",
    "lasso_bo_val['Lambda'] = np.logspace(-4, 4, 12)\n",
    "lasso_bo_val = lasso_bo_val.set_index('Lambda')\n",
    "lasso_bo_val.plot(logx = True, logy = True, ax = axes[1])\n",
    "\n",
    "axes[0].set_ylabel('MSE')\n",
    "axes[1].set_ylabel('MSE')\n",
    "\n",
    "axes[0].set_title('(A)  IMDb average rating')\n",
    "axes[1].set_title('(B)  Log worldwide box office')\n",
    "\n",
    "plt.subplots_adjust(wspace = 0.35)\n",
    "plt.subplots_adjust(hspace = 0.5)\n",
    "\n",
    "plt.savefig('validation-curves.pdf', bbox_inches = 'tight')"
   ]
  },
  {
   "cell_type": "markdown",
   "metadata": {},
   "source": [
    "### Elastic net"
   ]
  },
  {
   "cell_type": "code",
   "execution_count": 19,
   "metadata": {},
   "outputs": [
    {
     "name": "stdout",
     "output_type": "stream",
     "text": [
      "tomatoMeter: 609.204829094204 0.1957531904458013\n"
     ]
    },
    {
     "name": "stderr",
     "output_type": "stream",
     "text": [
      "C:\\Users\\Jacob\\Anaconda3\\lib\\site-packages\\sklearn\\linear_model\\coordinate_descent.py:492: ConvergenceWarning: Objective did not converge. You might want to increase the number of iterations. Fitting data with very small alpha may cause precision problems.\n",
      "  ConvergenceWarning)\n"
     ]
    },
    {
     "name": "stdout",
     "output_type": "stream",
     "text": [
      "audienceScore: 276.47120580681934 0.24469550643641003\n"
     ]
    },
    {
     "name": "stderr",
     "output_type": "stream",
     "text": [
      "C:\\Users\\Jacob\\Anaconda3\\lib\\site-packages\\sklearn\\linear_model\\coordinate_descent.py:492: ConvergenceWarning: Objective did not converge. You might want to increase the number of iterations. Fitting data with very small alpha may cause precision problems.\n",
      "  ConvergenceWarning)\n"
     ]
    },
    {
     "name": "stdout",
     "output_type": "stream",
     "text": [
      "averageRating: 0.7014693021912763 0.27265791114491167\n",
      "boWorldwide: 2.881796659650782 0.6689574016787165\n"
     ]
    },
    {
     "name": "stderr",
     "output_type": "stream",
     "text": [
      "C:\\Users\\Jacob\\Anaconda3\\lib\\site-packages\\sklearn\\linear_model\\coordinate_descent.py:492: ConvergenceWarning: Objective did not converge. You might want to increase the number of iterations. Fitting data with very small alpha may cause precision problems.\n",
      "  ConvergenceWarning)\n"
     ]
    }
   ],
   "source": [
    "gs_nets = []\n",
    "\n",
    "for target in y_train: \n",
    "    pipe = make_pipeline(ElasticNet(random_state = 1))\n",
    "    gs_net = GridSearchCV(estimator = pipe, param_grid = {'elasticnet__alpha': np.logspace(-4, 4, 12), \\\n",
    "                      'elasticnet__l1_ratio': [0, 0.25, 0.5, 0.75, 1]}, \\\n",
    "                      scoring = 'neg_mean_squared_error', n_jobs = -1, iid = False, cv = 10, verbose = 0)\n",
    "    gs_net.fit(X_train, y_train[target])\n",
    "    \n",
    "    print(target + ':', mean_squared_error(y_test[target], gs_net.best_estimator_.predict(X_test)), r2_score(y_test[target], gs_net.best_estimator_.predict(X_test)))\n",
    "    \n",
    "    gs_nets.append(gs_net)"
   ]
  },
  {
   "cell_type": "markdown",
   "metadata": {},
   "source": [
    "### Random shit"
   ]
  },
  {
   "cell_type": "code",
   "execution_count": null,
   "metadata": {},
   "outputs": [],
   "source": [
    "test['predicted'] = gs.predict(X_test)\n",
    "print(gs.best_score_)\n",
    "print(gs.best_params_)"
   ]
  },
  {
   "cell_type": "code",
   "execution_count": null,
   "metadata": {},
   "outputs": [],
   "source": [
    "import seaborn as sns\n",
    "%matplotlib inline\n",
    "\n",
    "sns.regplot('audienceScore', 'predicted', ci = None, data = test)"
   ]
  },
  {
   "cell_type": "code",
   "execution_count": null,
   "metadata": {},
   "outputs": [],
   "source": [
    "for item in X_train.columns:\n",
    "    print(item)"
   ]
  },
  {
   "cell_type": "code",
   "execution_count": null,
   "metadata": {},
   "outputs": [],
   "source": [
    "X_train"
   ]
  }
 ],
 "metadata": {
  "kernelspec": {
   "display_name": "Python 3",
   "language": "python",
   "name": "python3"
  },
  "language_info": {
   "codemirror_mode": {
    "name": "ipython",
    "version": 3
   },
   "file_extension": ".py",
   "mimetype": "text/x-python",
   "name": "python",
   "nbconvert_exporter": "python",
   "pygments_lexer": "ipython3",
   "version": "3.7.3"
  }
 },
 "nbformat": 4,
 "nbformat_minor": 2
}
