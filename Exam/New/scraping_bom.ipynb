{
 "cells": [
  {
   "cell_type": "markdown",
   "metadata": {},
   "source": [
    "# Scraping Boxofficemojo"
   ]
  },
  {
   "cell_type": "markdown",
   "metadata": {},
   "source": [
    "### Scraping studio links"
   ]
  },
  {
   "cell_type": "code",
   "execution_count": 1,
   "metadata": {},
   "outputs": [],
   "source": [
    "import requests\n",
    "import pandas as pd\n",
    "from bs4 import BeautifulSoup as bs\n",
    "import time\n",
    "import scraping_class\n",
    "logfile = 'sds19exam2.csv'\n",
    "connector = scraping_class.Connector(logfile)\n",
    "\n",
    "response, my_id = connector.get('https://www.boxofficemojo.com/studio/', 'scraping-bom')\n",
    "html = response.text\n",
    "soup = bs(html,'lxml')\n",
    "\n",
    "table_node = soup.find_all('table', attrs = {'border': '0', 'cellspacing': '1', 'cellpadding': '5'})\n",
    "link_nodes = soup.find_all('a', href = True)\n",
    "studios = []\n",
    "for link in link_nodes:\n",
    "    if '/studio/chart/' in link['href']:\n",
    "        studios.append(link['href'].split('&studio=')[1].split('.htm')[0])"
   ]
  },
  {
   "cell_type": "markdown",
   "metadata": {},
   "source": [
    "### Function for scraping a studio's movies"
   ]
  },
  {
   "cell_type": "code",
   "execution_count": 2,
   "metadata": {},
   "outputs": [],
   "source": [
    "def get_movies(studio):\n",
    "    i = 1\n",
    "    while True:\n",
    "        logfile = 'sds19exam2.csv'\n",
    "        connector = scraping_class.Connector(logfile)\n",
    "        response, my_id = connector.get('https://www.boxofficemojo.com/studio/chart/?page=' + str(i) + '&yr=&view=company&view2=allmovies&studio=' + studio + '.htm&p=.htm', 'scraping-bom')\n",
    "        html = response.text\n",
    "        tables = pd.read_html(html, header = 0)\n",
    "        \n",
    "        # OLD: tables = pd.read_html('https://www.boxofficemojo.com/studio/chart/?page=' + str(i) + '&yr=&view=company&view2=allmovies&studio=' + studio + '.htm&p=.htm', header = 0)\n",
    "        if len(tables) == 2: break\n",
    "        dfs = tables[1]\n",
    "        dfs.drop(dfs.tail(4).index, inplace = True)\n",
    "        ### TEMPORARY dfs.columns = ['boRank', 'title', 'studioAcronym', 'boWorldwide', 'totalTheaters', 'boOpening', 'openingTheaters', 'openDate'] \n",
    "        if i == 1:\n",
    "            dfn = dfs.copy()\n",
    "        else:\n",
    "            dfn = dfn.append(dfs)\n",
    "        i += 1\n",
    "        time.sleep(1)\n",
    "    try:\n",
    "        return dfn\n",
    "    except:\n",
    "        return None"
   ]
  },
  {
   "cell_type": "markdown",
   "metadata": {},
   "source": [
    "### Scraping all movies"
   ]
  },
  {
   "cell_type": "code",
   "execution_count": null,
   "metadata": {},
   "outputs": [
    {
     "name": "stderr",
     "output_type": "stream",
     "text": [
      "C:\\Users\\Jacob\\Anaconda3\\lib\\site-packages\\pandas\\core\\frame.py:6211: FutureWarning: Sorting because non-concatenation axis is not aligned. A future version\n",
      "of pandas will change to not sort by default.\n",
      "\n",
      "To accept the future behavior, pass 'sort=False'.\n",
      "\n",
      "To retain the current behavior and silence the warning, pass 'sort=True'.\n",
      "\n",
      "  sort=sort)\n"
     ]
    }
   ],
   "source": [
    "i = 1\n",
    "for studio in studios:\n",
    "    if i == 1:\n",
    "        dff = get_movies(studio)\n",
    "    else:\n",
    "        try:\n",
    "            dff = dff.append(get_movies(studio))\n",
    "        except:\n",
    "            pass\n",
    "    print(i)\n",
    "    i += 1\n",
    "    time.sleep(1)\n",
    "dff"
   ]
  },
  {
   "cell_type": "markdown",
   "metadata": {},
   "source": [
    "### Structuring data"
   ]
  },
  {
   "cell_type": "code",
   "execution_count": null,
   "metadata": {},
   "outputs": [],
   "source": [
    "dff = pd.read_pickle('bom_raw.pkl')"
   ]
  },
  {
   "cell_type": "code",
   "execution_count": null,
   "metadata": {},
   "outputs": [],
   "source": [
    "def convert_year(string):\n",
    "    try:\n",
    "        string = string.split('/')[2]\n",
    "        if string[0] in '23456789':\n",
    "            return int('19' + string)\n",
    "        else:\n",
    "            return int('20' + string)\n",
    "    except:\n",
    "        return None\n",
    "    \n",
    "def numerize_money(string):\n",
    "    if isinstance(string, str):\n",
    "        try:\n",
    "            return int(float(string.replace('$', '').replace(',', '')))\n",
    "        except:\n",
    "            return None\n",
    "    else:\n",
    "        return None\n",
    "\n",
    "\n",
    "dff['boOpening'] = dff['boOpening'].apply(numerize_money)\n",
    "dff['boWorldwide'] = dff['boWorldwide'].apply(numerize_money)\n",
    "dff['year'] = dff['openDate'].apply(convert_year)\n",
    "dff['year'] = dff['openDate'].apply(convert_year)\n",
    "dff = dff.drop('openDate', axis = 1)\n",
    "\n",
    "############# TEMPORARY #############\n",
    "### --> dff.to_pickle('bom_clean.pkl')\n",
    "############# TEMPORARY #############"
   ]
  },
  {
   "cell_type": "code",
   "execution_count": null,
   "metadata": {},
   "outputs": [],
   "source": [
    "dff"
   ]
  }
 ],
 "metadata": {
  "kernelspec": {
   "display_name": "Python 3",
   "language": "python",
   "name": "python3"
  },
  "language_info": {
   "codemirror_mode": {
    "name": "ipython",
    "version": 3
   },
   "file_extension": ".py",
   "mimetype": "text/x-python",
   "name": "python",
   "nbconvert_exporter": "python",
   "pygments_lexer": "ipython3",
   "version": "3.7.4"
  }
 },
 "nbformat": 4,
 "nbformat_minor": 2
}
