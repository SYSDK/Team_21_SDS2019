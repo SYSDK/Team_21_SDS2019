{
 "cells": [
  {
   "cell_type": "markdown",
   "metadata": {},
   "source": [
    "### Merging datasets"
   ]
  },
  {
   "cell_type": "code",
   "execution_count": 1,
   "metadata": {},
   "outputs": [
    {
     "name": "stdout",
     "output_type": "stream",
     "text": [
      "(9984, 14)\n",
      "(5937, 20)\n",
      "(2847, 26)\n"
     ]
    }
   ],
   "source": [
    "import pandas as pd\n",
    "\n",
    "def remove_year(string):\n",
    "    return string.split('(')[0]\n",
    "\n",
    "def get_year(date):\n",
    "    return date.year\n",
    "\n",
    "# Load datasets\n",
    "imdb = pd.read_pickle('imdb.pkl')\n",
    "rt = pd.read_pickle('rt_clean.pkl')\n",
    "bom = pd.read_pickle('bom_clean.pkl')\n",
    "bud = pd.read_pickle('budgets_clean.pkl')\n",
    "\n",
    "# Remove years from bom titles\n",
    "bom['title'] = bom['title'].apply(remove_year)\n",
    "\n",
    "# Rename columns in imdb\n",
    "imdb.rename(columns = {'primaryTitle': 'title', 'startYear': 'year'}, inplace = True)\n",
    "\n",
    "# Make year column in Rotten Tomatoes\n",
    "rt['year'] = rt['releaseDate'].apply(get_year)\n",
    "\n",
    "# Lowercase titles\n",
    "def adjust_title(string):\n",
    "    string = string.lower()\n",
    "    string = ''.join(string.split())\n",
    "    \n",
    "    chars = [':', '.', ',', ';', '(', ')', '[', ']', '/', '\\\\', '$', '%', '\"', '\\'', '#', '@', '=', '?', '+', '-']\n",
    "    for char in chars:\n",
    "        string = string.replace(char, '')\n",
    "        \n",
    "    string = string.replace('&', 'and')\n",
    "    \n",
    "    return string\n",
    "\n",
    "imdb_lower = imdb.copy()\n",
    "imdb_lower['title'] = imdb['title'].apply(adjust_title)\n",
    "rt['title'] = rt['title'].apply(adjust_title)\n",
    "bom['title'] = bom['title'].apply(adjust_title)\n",
    "bud['title'] = bud['title'].apply(adjust_title)\n",
    "\n",
    "# Merge datasets\n",
    "print(rt.shape)\n",
    "df = rt.merge(imdb_lower, on = ['title', 'year'])\n",
    "print(df.shape)\n",
    "df = df.merge(bom, on = ['title', 'year'])\n",
    "print(df.shape)\n",
    "#df = df.merge(bud[['title', 'year', 'budget']], on = ['title', 'year'])\n",
    "#print(df.shape)"
   ]
  },
  {
   "cell_type": "markdown",
   "metadata": {},
   "source": [
    "### Structuring data"
   ]
  },
  {
   "cell_type": "code",
   "execution_count": 2,
   "metadata": {},
   "outputs": [],
   "source": [
    "# Drop NA\n",
    "#df = df.dropna()\n",
    "\n",
    "# Select years\n",
    "df = df[df['year'] >= 2010]\n",
    "\n",
    "# Set index\n",
    "df = df.set_index('tconst')\n",
    "\n",
    "# Get titles from IMDB\n",
    "imdb = imdb.set_index('tconst')\n",
    "df['title'] = imdb['title']\n",
    "\n",
    "df = df.drop_duplicates(subset = ['title', 'releaseDate'])"
   ]
  },
  {
   "cell_type": "code",
   "execution_count": 3,
   "metadata": {},
   "outputs": [],
   "source": [
    "actors = pd.read_pickle('actors.pkl')\n",
    "directors = pd.read_pickle('directors.pkl')\n",
    "\n",
    "top_500 = actors.iloc[:500]['actor'].tolist()\n",
    "top_100 = directors.iloc[:100]['director'].tolist()"
   ]
  },
  {
   "cell_type": "code",
   "execution_count": 4,
   "metadata": {},
   "outputs": [],
   "source": [
    "def get_top_actors(lst):\n",
    "    count = 0\n",
    "    for item in lst:\n",
    "        if item in top_500:\n",
    "            count += 1\n",
    "    return count\n",
    "\n",
    "def get_top_directors(lst):\n",
    "    count = 0\n",
    "    for item in lst:\n",
    "        if item in top_100:\n",
    "            count += 1\n",
    "    return count"
   ]
  },
  {
   "cell_type": "code",
   "execution_count": 5,
   "metadata": {},
   "outputs": [],
   "source": [
    "df['topActors'] = df['actors'].apply(get_top_actors)\n",
    "df['topDirectors'] = df['directors'].apply(get_top_directors)"
   ]
  },
  {
   "cell_type": "code",
   "execution_count": 6,
   "metadata": {},
   "outputs": [],
   "source": [
    "df.to_pickle('full_no_budgets.pkl')"
   ]
  }
 ],
 "metadata": {
  "kernelspec": {
   "display_name": "Python 3",
   "language": "python",
   "name": "python3"
  },
  "language_info": {
   "codemirror_mode": {
    "name": "ipython",
    "version": 3
   },
   "file_extension": ".py",
   "mimetype": "text/x-python",
   "name": "python",
   "nbconvert_exporter": "python",
   "pygments_lexer": "ipython3",
   "version": "3.7.3"
  }
 },
 "nbformat": 4,
 "nbformat_minor": 2
}
