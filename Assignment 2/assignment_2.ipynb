{
 "cells": [
  {
   "cell_type": "markdown",
   "metadata": {
    "deletable": false,
    "editable": false,
    "nbgrader": {
     "checksum": "bc548c5757183e3aa5b100a22a9de6a6",
     "grade": false,
     "grade_id": "cell-0b3c68d95ede789f",
     "locked": true,
     "schema_version": 1,
     "solution": false
    }
   },
   "source": [
    "# Assignment 2\n",
    "\n",
    "This is the first of two mandatory assignments which must be completed during the course. First some practical information:\n",
    "\n",
    "* When is the assignment due?: **23:59, Friday, August 24, 2018**\n",
    "* How do you grade the assignment?: You will **peergrade** each other as primary grading. \n",
    "* Must I hand-in as a group?: **yes**\n",
    "\n",
    "The assigment consist of one to three problems from each of the exercise sets you have solved so far (excluding Exercise Set 1). We've tried to select problems which are self contained, but it might be nessecary to solve some of the previous exercises in each set to fully answer the problems in this assignment."
   ]
  },
  {
   "cell_type": "code",
   "execution_count": 1,
   "metadata": {
    "deletable": false,
    "editable": false,
    "nbgrader": {
     "checksum": "3528688d4562722e1b444037def56c53",
     "grade": false,
     "grade_id": "cell-3072780d41331083",
     "locked": true,
     "schema_version": 1,
     "solution": false
    }
   },
   "outputs": [
    {
     "name": "stderr",
     "output_type": "stream",
     "text": [
      "C:\\Users\\Jacob\\Anaconda3\\lib\\site-packages\\scipy\\stats\\stats.py:1713: FutureWarning: Using a non-tuple sequence for multidimensional indexing is deprecated; use `arr[tuple(seq)]` instead of `arr[seq]`. In the future this will be interpreted as an array index, `arr[np.array(seq)]`, which will result either in an error or a different result.\n",
      "  return np.add.reduce(sorted[indexer] * weights, axis=axis) / sumval\n"
     ]
    },
    {
     "data": {
      "text/plain": [
       "<Figure size 1117.75x1000 with 20 Axes>"
      ]
     },
     "metadata": {},
     "output_type": "display_data"
    }
   ],
   "source": [
    "import numpy as np \n",
    "import pandas as pd \n",
    "import matplotlib.pyplot as plt \n",
    "import seaborn as sns\n",
    "\n",
    "iris = sns.load_dataset('iris')\n",
    "iris = iris.query(\"species == 'virginica' | species == 'versicolor'\").sample(frac = 1, random_state = 3)\n",
    "X = np.array(iris[['sepal_length', 'sepal_width', 'petal_length', 'petal_width']])\n",
    "y = np.array(iris['species'].map({'virginica': 1, 'versicolor': -1}))\n",
    "sns.pairplot(iris, hue=\"species\", palette=\"husl\", diag_kws = {'shade': False})\n",
    "plt.show()\n",
    "\n",
    "# A very simple deterministic test-train split \n",
    "Xtrain = X[:70]\n",
    "ytrain = y[:70]\n",
    "\n",
    "Xtest = X[70:]\n",
    "ytest = y[70:]"
   ]
  },
  {
   "cell_type": "markdown",
   "metadata": {
    "deletable": false,
    "editable": false,
    "nbgrader": {
     "checksum": "d1d1dc92d371366c3d3587f7573262fc",
     "grade": false,
     "grade_id": "cell-b0c4c7df89bbf367",
     "locked": true,
     "schema_version": 1,
     "solution": false
    }
   },
   "source": [
    "> **Ex. 11.1.5:** Write a function whichs loops over the training data (both X and y) using `zip`. For each row in the data, update the weights according to the perceptron rule (remember to update the bias in `w[0]`!). Set $\\eta = 0.1$.\n",
    ">\n",
    "> Make sure the loop stores the total number of prediction errors encountered underways in the loop by creating an `int` which is incremented whenever you update the weights. \n",
    ">\n",
    ">> _Hint:_ your function should return the updated weights, as well as the number of errors made by the perceptron.\n",
    ">\n",
    ">> _Hint:_ The following code block implements the function in _pseudo_code (it wont run, but serves to communicate the functionality).\n",
    ">> ```\n",
    ">> function f(X, y, W, eta):\n",
    ">>    set errors = 0\n",
    ">>\n",
    ">>    for each pair xi, yi in zip(X,y) do:\n",
    ">>        set update = eta * (yi - predict(xi, W))\n",
    ">>        set W[1:] = W[1:] + update * xi\n",
    ">>        set W[0] = W[0] + update\n",
    ">>        set errors = errors + int(update != 0) \n",
    ">>\n",
    ">>    return W, errors\n",
    ">> ```\n",
    ">\n",
    "> *Bonus:* If you completed the previous bonus exercise (for 11.1.4), calculate the accuracy on training data using the updated weights as input in the predict function. Any progress yet?\n",
    "\n",
    "You can use the following functions:\n",
    "\n",
    "```python\n",
    "def random_weights(location = 0.0, scale = 0.01, seed = 1):\n",
    "    # Init random number generator\n",
    "    rgen = np.random.RandomState(seed)\n",
    "    w = rgen.normal(loc=location, scale=scale, size= 1 + X.shape[1])\n",
    "    \n",
    "    return w\n",
    "\n",
    "def net_input(X, W): \n",
    "    return np.dot(X, W[1:]) + W[0]   # Linear product X'W + bias\n",
    "\n",
    "\n",
    "def predict(X, W):\n",
    "    linProd = net_input(X, W)\n",
    "    return np.where(linProd >= 0.0, 1, -1)    # 1(linProd > 0)\n",
    "```\n",
    "\n",
    ">\n",
    "> Make sure your function takes the arguments `X, y, W, eta` and take the name  `perceptronEpoch`"
   ]
  },
  {
   "cell_type": "code",
   "execution_count": 2,
   "metadata": {
    "deletable": false,
    "nbgrader": {
     "checksum": "07299358a25773a632139da73a82b21c",
     "grade": false,
     "grade_id": "cell-2bda70ae3ab3513a",
     "locked": false,
     "schema_version": 1,
     "solution": true
    }
   },
   "outputs": [],
   "source": [
    "# [Answer to Ex. 11.1.5]\n",
    "\n",
    "# def perceptronEpoch(X, y, W, eta = 0.1):\n",
    "#    YOUR CODE HERE\n",
    "\n",
    "# YOUR CODE HERE\n",
    "def random_weights(location = 0.0, scale = 0.01, seed = 1):\n",
    "    # Init random number generator\n",
    "    rgen = np.random.RandomState(seed)\n",
    "    w = rgen.normal(loc=location, scale=scale, size= 1 + X.shape[1])\n",
    "\n",
    "    return w\n",
    "\n",
    "def net_input(X, W): \n",
    "    return np.dot(X, W[1:]) + W[0]   # Linear product X'W + bias\n",
    "\n",
    "\n",
    "def predict(X, W):\n",
    "    linProd = net_input(X, W)\n",
    "    return np.where(linProd >= 0.0, 1, -1)    # 1(linProd > 0)\n",
    "\n",
    "def perceptronEpoch(X, y, W, eta):\n",
    "    errors = 0\n",
    "    for xi, yi in zip(X, y):\n",
    "        update = eta * (yi - predict(xi, W))\n",
    "        W[1:] = W[1:] + update * xi\n",
    "        W[0] = W[0] + update\n",
    "        errors = errors + int(update != 0)\n",
    "    return W, errors"
   ]
  },
  {
   "cell_type": "code",
   "execution_count": 3,
   "metadata": {
    "deletable": false,
    "editable": false,
    "nbgrader": {
     "checksum": "84775f7db91f8bd98517f69793de65dc",
     "grade": true,
     "grade_id": "cell-f8b86a3cb32f287d",
     "locked": true,
     "points": 1,
     "schema_version": 1,
     "solution": false
    }
   },
   "outputs": [],
   "source": [
    "w, e = perceptronEpoch(Xtrain, ytrain, random_weights(), 0.1)\n",
    "assert len(w) == 5\n",
    "assert isinstance(e, int)"
   ]
  },
  {
   "cell_type": "markdown",
   "metadata": {
    "deletable": false,
    "editable": false,
    "nbgrader": {
     "checksum": "01f3dfd0d33e33e894e5e55fb1766779",
     "grade": false,
     "grade_id": "cell-aeb7d747c39cfb45",
     "locked": true,
     "schema_version": 1,
     "solution": false
    }
   },
   "source": [
    "> **Ex. 11.1.6:** Write a function which repeat the updating procedure (calls the function) you constructed in 11.1.5 for `n_iter` times by packing the whole thing in a loop. Make sure you store the number of errors in each iteration in a list. \n",
    ">\n",
    "> Plot the total errors after each iteration in a graph.\n",
    ">\n",
    ">> _Hint:_ Make sure you dont reset the weights after each iteration.\n",
    ">\n",
    ">> _Hint:_ Once again some pseudocode:\n",
    ">> ```\n",
    ">> function g(X, y, n_iter):\n",
    ">>     set eta = 0.1\n",
    ">>     set weights = random_weights()\n",
    ">>     set errorseq = list()\n",
    ">>\n",
    ">>     for each _ in range(n_iter):\n",
    ">>         weights, e = f(X, y, W, eta) \n",
    ">>         errorseq.append(e)\n",
    ">>\n",
    ">>     return weights, errorseq\n",
    ">> ```\n",
    "\n",
    "Please make sure that your function is named `Perceptron` and takes the arguments `X, y, n_iter, eta`\n"
   ]
  },
  {
   "cell_type": "code",
   "execution_count": 4,
   "metadata": {
    "deletable": false,
    "nbgrader": {
     "checksum": "8411b72e1fb5b0dd4b9b0f770448eee4",
     "grade": false,
     "grade_id": "cell-b1c61239647f50bc",
     "locked": false,
     "schema_version": 1,
     "solution": true
    }
   },
   "outputs": [],
   "source": [
    "# [Answer to Ex. 11.1.6]\n",
    "\n",
    "#def Perceptron(X, y, n_iter = 50, eta = 0.1):\n",
    "#    YOUR CODE\n",
    "\n",
    "# YOUR CODE HERE\n",
    "def Perceptron(X, y, n_iter, eta):\n",
    "    W = np.random.RandomState(seed = 69).normal(loc = 0, scale = 0.01, size = X.shape[1] + 1)\n",
    "    errorseq = []\n",
    "    for i in range(n_iter):\n",
    "        W, e = perceptronEpoch(X, y, W, eta)\n",
    "        errorseq.append(e)\n",
    "    return W, errorseq"
   ]
  },
  {
   "cell_type": "code",
   "execution_count": 5,
   "metadata": {
    "deletable": false,
    "editable": false,
    "nbgrader": {
     "checksum": "aa2d9c611f4bd6f8c0e2d44bef5254ae",
     "grade": true,
     "grade_id": "cell-cb48d432ba1d1777",
     "locked": true,
     "points": 1,
     "schema_version": 1,
     "solution": false
    }
   },
   "outputs": [],
   "source": [
    "trained_w, errorseq = Perceptron(Xtrain, ytrain, 50, 0.1)\n",
    "assert len(trained_w) == 5\n",
    "assert len(errorseq) == 50\n",
    "assert all(isinstance(i, int) for i in errorseq)"
   ]
  },
  {
   "cell_type": "markdown",
   "metadata": {
    "deletable": false,
    "editable": false,
    "nbgrader": {
     "checksum": "38e2c8f68e3d93b14688505fc30f5a1f",
     "grade": false,
     "grade_id": "cell-09ee8b8bfa7d20ae",
     "locked": true,
     "schema_version": 1,
     "solution": false
    }
   },
   "source": [
    "## Problems from exercise set 12\n",
    ">Get the required data by running the cell below"
   ]
  },
  {
   "cell_type": "code",
   "execution_count": 6,
   "metadata": {
    "deletable": false,
    "editable": false,
    "nbgrader": {
     "checksum": "b07dc7d9d0d294f64c8d33f21cab26af",
     "grade": false,
     "grade_id": "cell-146e95214415be31",
     "locked": true,
     "schema_version": 1,
     "solution": false
    }
   },
   "outputs": [],
   "source": [
    "from sklearn.datasets import fetch_california_housing\n",
    "from sklearn.model_selection import train_test_split\n",
    "\n",
    "cal_house = fetch_california_housing()    \n",
    "X = pd.DataFrame(data=cal_house['data'], \n",
    "                 columns=cal_house['feature_names'])\\\n",
    "             .iloc[:,:-2]\n",
    "y = cal_house['target']\n",
    "\n",
    "X_train, X_test, y_train, y_test = train_test_split(X, y, test_size=.5, random_state=1)"
   ]
  },
  {
   "cell_type": "markdown",
   "metadata": {
    "deletable": false,
    "editable": false,
    "nbgrader": {
     "checksum": "4cc189ad95b145598bbe3dec8396604c",
     "grade": false,
     "grade_id": "cell-d873b3cec5d922df",
     "locked": true,
     "schema_version": 1,
     "solution": false
    }
   },
   "source": [
    "> **Ex.12.2.1**: Generate interactions between all features to third degree, make sure you **exclude** the bias/intercept term. How many variables are there? Will OLS fail? \n",
    ">\n",
    "> After making interactions rescale the features to have zero mean, unit std. deviation. Should you use the distribution of the training data to rescale the test data?  \n",
    ">\n",
    ">> *Hint 1*: Try importing `PolynomialFeatures` from `sklearn.preprocessing`\n",
    ">\n",
    ">> *Hint 2*: If in doubt about which distribution to scale, you may read [this post](https://stats.stackexchange.com/questions/174823/how-to-apply-standardization-normalization-to-train-and-testset-if-prediction-i).\n",
    "\n",
    "Name you transformed training data set `X_train2` and your test data set `X_test2`"
   ]
  },
  {
   "cell_type": "code",
   "execution_count": 7,
   "metadata": {
    "deletable": false,
    "nbgrader": {
     "checksum": "6a22d591e5e6e96c227abfc0db9081a9",
     "grade": false,
     "grade_id": "cell-08fe4914c0e8cad3",
     "locked": false,
     "schema_version": 1,
     "solution": true
    }
   },
   "outputs": [],
   "source": [
    "# [Answer to Ex. 12.2.1]\n",
    "#X_train2 = YOUR FINAL TRAINING DATA SET\n",
    "#X_test2\n",
    "# YOUR CODE HERE\n",
    "# There are 83 variables and OLS will not fail (since there are fewer variables than observations)\n",
    "from sklearn.preprocessing import PolynomialFeatures\n",
    "from sklearn.preprocessing import StandardScaler\n",
    "\n",
    "scaler = StandardScaler()\n",
    "\n",
    "X_train = PolynomialFeatures(degree = 3, include_bias = False).fit_transform(X_train)\n",
    "X_test = PolynomialFeatures(degree = 3, include_bias = False).fit_transform(X_test)\n",
    "y_train = PolynomialFeatures(degree = 3, include_bias = False).fit_transform(y_train.reshape(-1, 1))\n",
    "y_test = PolynomialFeatures(degree = 3, include_bias = False).fit_transform(y_test.reshape(-1, 1))\n",
    "\n",
    "scaler.fit(X_train)\n",
    "X_train2 = scaler.transform(X_train)\n",
    "X_test2 = scaler.transform(X_test)\n",
    "\n",
    "scaler.fit(y_train)\n",
    "y_train = scaler.fit_transform(y_train)\n",
    "y_test = scaler.fit_transform(y_test)"
   ]
  },
  {
   "cell_type": "code",
   "execution_count": 8,
   "metadata": {
    "deletable": false,
    "editable": false,
    "nbgrader": {
     "checksum": "21efb0b4c654c5db093f3d2d892e60ae",
     "grade": true,
     "grade_id": "cell-549143d7ba521f0e",
     "locked": true,
     "points": 1,
     "schema_version": 1,
     "solution": false
    }
   },
   "outputs": [],
   "source": [
    "assert 'PolynomialFeatures' in dir()\n",
    "assert np.allclose(X_train2.mean(axis=0), 0)\n",
    "assert np.allclose(X_train2.std(axis=0), 1)"
   ]
  },
  {
   "cell_type": "markdown",
   "metadata": {
    "deletable": false,
    "editable": false,
    "nbgrader": {
     "checksum": "6d1a7b10230e727661ad32525e1f5f8a",
     "grade": false,
     "grade_id": "cell-f5f3f01a9c903af4",
     "locked": true,
     "schema_version": 1,
     "solution": false
    }
   },
   "source": [
    "> **Ex.12.2.2**: Estimate the Lasso model on the train data set, using values of $\\lambda$ in the range from $10^{-4}$ to $10^4$. For each $\\lambda$  calculate and save the Root Mean Squared Error (RMSE) for the test and train data. \n",
    ">\n",
    ">> *Hint*: use `logspace` in numpy to create the range.\n",
    "\n",
    "Please name your root mean square function `rmse` which takes the arguments `y_pred, y_true`.\n",
    "Please store you results in a list named `output` which is a list of lists. `output` should take the following form `[[<lambda parameter>, <root mean squared error for training data>, <root mean squared error for test data>]]`\n"
   ]
  },
  {
   "cell_type": "code",
   "execution_count": 9,
   "metadata": {
    "deletable": false,
    "nbgrader": {
     "checksum": "2ab47e1228930f5a9f79daee40f29cd3",
     "grade": false,
     "grade_id": "cell-9fa702c4cfe407eb",
     "locked": false,
     "schema_version": 1,
     "solution": true
    }
   },
   "outputs": [
    {
     "name": "stderr",
     "output_type": "stream",
     "text": [
      "C:\\Users\\Jacob\\Anaconda3\\lib\\site-packages\\sklearn\\linear_model\\coordinate_descent.py:491: ConvergenceWarning: Objective did not converge. You might want to increase the number of iterations. Fitting data with very small alpha may cause precision problems.\n",
      "  ConvergenceWarning)\n",
      "C:\\Users\\Jacob\\Anaconda3\\lib\\site-packages\\sklearn\\linear_model\\coordinate_descent.py:491: ConvergenceWarning: Objective did not converge. You might want to increase the number of iterations. Fitting data with very small alpha may cause precision problems.\n",
      "  ConvergenceWarning)\n",
      "C:\\Users\\Jacob\\Anaconda3\\lib\\site-packages\\sklearn\\linear_model\\coordinate_descent.py:491: ConvergenceWarning: Objective did not converge. You might want to increase the number of iterations. Fitting data with very small alpha may cause precision problems.\n",
      "  ConvergenceWarning)\n",
      "C:\\Users\\Jacob\\Anaconda3\\lib\\site-packages\\sklearn\\linear_model\\coordinate_descent.py:491: ConvergenceWarning: Objective did not converge. You might want to increase the number of iterations. Fitting data with very small alpha may cause precision problems.\n",
      "  ConvergenceWarning)\n",
      "C:\\Users\\Jacob\\Anaconda3\\lib\\site-packages\\sklearn\\linear_model\\coordinate_descent.py:491: ConvergenceWarning: Objective did not converge. You might want to increase the number of iterations. Fitting data with very small alpha may cause precision problems.\n",
      "  ConvergenceWarning)\n",
      "C:\\Users\\Jacob\\Anaconda3\\lib\\site-packages\\sklearn\\linear_model\\coordinate_descent.py:491: ConvergenceWarning: Objective did not converge. You might want to increase the number of iterations. Fitting data with very small alpha may cause precision problems.\n",
      "  ConvergenceWarning)\n",
      "C:\\Users\\Jacob\\Anaconda3\\lib\\site-packages\\sklearn\\linear_model\\coordinate_descent.py:491: ConvergenceWarning: Objective did not converge. You might want to increase the number of iterations. Fitting data with very small alpha may cause precision problems.\n",
      "  ConvergenceWarning)\n",
      "C:\\Users\\Jacob\\Anaconda3\\lib\\site-packages\\sklearn\\linear_model\\coordinate_descent.py:491: ConvergenceWarning: Objective did not converge. You might want to increase the number of iterations. Fitting data with very small alpha may cause precision problems.\n",
      "  ConvergenceWarning)\n",
      "C:\\Users\\Jacob\\Anaconda3\\lib\\site-packages\\sklearn\\linear_model\\coordinate_descent.py:491: ConvergenceWarning: Objective did not converge. You might want to increase the number of iterations. Fitting data with very small alpha may cause precision problems.\n",
      "  ConvergenceWarning)\n",
      "C:\\Users\\Jacob\\Anaconda3\\lib\\site-packages\\sklearn\\linear_model\\coordinate_descent.py:491: ConvergenceWarning: Objective did not converge. You might want to increase the number of iterations. Fitting data with very small alpha may cause precision problems.\n",
      "  ConvergenceWarning)\n",
      "C:\\Users\\Jacob\\Anaconda3\\lib\\site-packages\\sklearn\\linear_model\\coordinate_descent.py:491: ConvergenceWarning: Objective did not converge. You might want to increase the number of iterations. Fitting data with very small alpha may cause precision problems.\n",
      "  ConvergenceWarning)\n",
      "C:\\Users\\Jacob\\Anaconda3\\lib\\site-packages\\sklearn\\linear_model\\coordinate_descent.py:491: ConvergenceWarning: Objective did not converge. You might want to increase the number of iterations. Fitting data with very small alpha may cause precision problems.\n",
      "  ConvergenceWarning)\n",
      "C:\\Users\\Jacob\\Anaconda3\\lib\\site-packages\\sklearn\\linear_model\\coordinate_descent.py:491: ConvergenceWarning: Objective did not converge. You might want to increase the number of iterations. Fitting data with very small alpha may cause precision problems.\n",
      "  ConvergenceWarning)\n",
      "C:\\Users\\Jacob\\Anaconda3\\lib\\site-packages\\sklearn\\linear_model\\coordinate_descent.py:491: ConvergenceWarning: Objective did not converge. You might want to increase the number of iterations. Fitting data with very small alpha may cause precision problems.\n",
      "  ConvergenceWarning)\n",
      "C:\\Users\\Jacob\\Anaconda3\\lib\\site-packages\\sklearn\\linear_model\\coordinate_descent.py:491: ConvergenceWarning: Objective did not converge. You might want to increase the number of iterations. Fitting data with very small alpha may cause precision problems.\n",
      "  ConvergenceWarning)\n",
      "C:\\Users\\Jacob\\Anaconda3\\lib\\site-packages\\sklearn\\linear_model\\coordinate_descent.py:491: ConvergenceWarning: Objective did not converge. You might want to increase the number of iterations. Fitting data with very small alpha may cause precision problems.\n",
      "  ConvergenceWarning)\n",
      "C:\\Users\\Jacob\\Anaconda3\\lib\\site-packages\\sklearn\\linear_model\\coordinate_descent.py:491: ConvergenceWarning: Objective did not converge. You might want to increase the number of iterations. Fitting data with very small alpha may cause precision problems.\n",
      "  ConvergenceWarning)\n",
      "C:\\Users\\Jacob\\Anaconda3\\lib\\site-packages\\sklearn\\linear_model\\coordinate_descent.py:491: ConvergenceWarning: Objective did not converge. You might want to increase the number of iterations. Fitting data with very small alpha may cause precision problems.\n",
      "  ConvergenceWarning)\n",
      "C:\\Users\\Jacob\\Anaconda3\\lib\\site-packages\\sklearn\\linear_model\\coordinate_descent.py:491: ConvergenceWarning: Objective did not converge. You might want to increase the number of iterations. Fitting data with very small alpha may cause precision problems.\n",
      "  ConvergenceWarning)\n",
      "C:\\Users\\Jacob\\Anaconda3\\lib\\site-packages\\sklearn\\linear_model\\coordinate_descent.py:491: ConvergenceWarning: Objective did not converge. You might want to increase the number of iterations. Fitting data with very small alpha may cause precision problems.\n",
      "  ConvergenceWarning)\n",
      "C:\\Users\\Jacob\\Anaconda3\\lib\\site-packages\\sklearn\\linear_model\\coordinate_descent.py:491: ConvergenceWarning: Objective did not converge. You might want to increase the number of iterations. Fitting data with very small alpha may cause precision problems.\n",
      "  ConvergenceWarning)\n",
      "C:\\Users\\Jacob\\Anaconda3\\lib\\site-packages\\sklearn\\linear_model\\coordinate_descent.py:491: ConvergenceWarning: Objective did not converge. You might want to increase the number of iterations. Fitting data with very small alpha may cause precision problems.\n",
      "  ConvergenceWarning)\n",
      "C:\\Users\\Jacob\\Anaconda3\\lib\\site-packages\\sklearn\\linear_model\\coordinate_descent.py:491: ConvergenceWarning: Objective did not converge. You might want to increase the number of iterations. Fitting data with very small alpha may cause precision problems.\n",
      "  ConvergenceWarning)\n",
      "C:\\Users\\Jacob\\Anaconda3\\lib\\site-packages\\sklearn\\linear_model\\coordinate_descent.py:491: ConvergenceWarning: Objective did not converge. You might want to increase the number of iterations. Fitting data with very small alpha may cause precision problems.\n",
      "  ConvergenceWarning)\n",
      "C:\\Users\\Jacob\\Anaconda3\\lib\\site-packages\\sklearn\\linear_model\\coordinate_descent.py:491: ConvergenceWarning: Objective did not converge. You might want to increase the number of iterations. Fitting data with very small alpha may cause precision problems.\n",
      "  ConvergenceWarning)\n",
      "C:\\Users\\Jacob\\Anaconda3\\lib\\site-packages\\sklearn\\linear_model\\coordinate_descent.py:491: ConvergenceWarning: Objective did not converge. You might want to increase the number of iterations. Fitting data with very small alpha may cause precision problems.\n",
      "  ConvergenceWarning)\n",
      "C:\\Users\\Jacob\\Anaconda3\\lib\\site-packages\\sklearn\\linear_model\\coordinate_descent.py:491: ConvergenceWarning: Objective did not converge. You might want to increase the number of iterations. Fitting data with very small alpha may cause precision problems.\n",
      "  ConvergenceWarning)\n",
      "C:\\Users\\Jacob\\Anaconda3\\lib\\site-packages\\sklearn\\linear_model\\coordinate_descent.py:491: ConvergenceWarning: Objective did not converge. You might want to increase the number of iterations. Fitting data with very small alpha may cause precision problems.\n",
      "  ConvergenceWarning)\n",
      "C:\\Users\\Jacob\\Anaconda3\\lib\\site-packages\\sklearn\\linear_model\\coordinate_descent.py:491: ConvergenceWarning: Objective did not converge. You might want to increase the number of iterations. Fitting data with very small alpha may cause precision problems.\n",
      "  ConvergenceWarning)\n",
      "C:\\Users\\Jacob\\Anaconda3\\lib\\site-packages\\sklearn\\linear_model\\coordinate_descent.py:491: ConvergenceWarning: Objective did not converge. You might want to increase the number of iterations. Fitting data with very small alpha may cause precision problems.\n",
      "  ConvergenceWarning)\n"
     ]
    },
    {
     "name": "stderr",
     "output_type": "stream",
     "text": [
      "C:\\Users\\Jacob\\Anaconda3\\lib\\site-packages\\sklearn\\linear_model\\coordinate_descent.py:491: ConvergenceWarning: Objective did not converge. You might want to increase the number of iterations. Fitting data with very small alpha may cause precision problems.\n",
      "  ConvergenceWarning)\n",
      "C:\\Users\\Jacob\\Anaconda3\\lib\\site-packages\\sklearn\\linear_model\\coordinate_descent.py:491: ConvergenceWarning: Objective did not converge. You might want to increase the number of iterations. Fitting data with very small alpha may cause precision problems.\n",
      "  ConvergenceWarning)\n",
      "C:\\Users\\Jacob\\Anaconda3\\lib\\site-packages\\sklearn\\linear_model\\coordinate_descent.py:491: ConvergenceWarning: Objective did not converge. You might want to increase the number of iterations. Fitting data with very small alpha may cause precision problems.\n",
      "  ConvergenceWarning)\n",
      "C:\\Users\\Jacob\\Anaconda3\\lib\\site-packages\\sklearn\\linear_model\\coordinate_descent.py:491: ConvergenceWarning: Objective did not converge. You might want to increase the number of iterations. Fitting data with very small alpha may cause precision problems.\n",
      "  ConvergenceWarning)\n",
      "C:\\Users\\Jacob\\Anaconda3\\lib\\site-packages\\sklearn\\linear_model\\coordinate_descent.py:491: ConvergenceWarning: Objective did not converge. You might want to increase the number of iterations. Fitting data with very small alpha may cause precision problems.\n",
      "  ConvergenceWarning)\n",
      "C:\\Users\\Jacob\\Anaconda3\\lib\\site-packages\\sklearn\\linear_model\\coordinate_descent.py:491: ConvergenceWarning: Objective did not converge. You might want to increase the number of iterations. Fitting data with very small alpha may cause precision problems.\n",
      "  ConvergenceWarning)\n",
      "C:\\Users\\Jacob\\Anaconda3\\lib\\site-packages\\sklearn\\linear_model\\coordinate_descent.py:491: ConvergenceWarning: Objective did not converge. You might want to increase the number of iterations. Fitting data with very small alpha may cause precision problems.\n",
      "  ConvergenceWarning)\n",
      "C:\\Users\\Jacob\\Anaconda3\\lib\\site-packages\\sklearn\\linear_model\\coordinate_descent.py:491: ConvergenceWarning: Objective did not converge. You might want to increase the number of iterations. Fitting data with very small alpha may cause precision problems.\n",
      "  ConvergenceWarning)\n",
      "C:\\Users\\Jacob\\Anaconda3\\lib\\site-packages\\sklearn\\linear_model\\coordinate_descent.py:491: ConvergenceWarning: Objective did not converge. You might want to increase the number of iterations. Fitting data with very small alpha may cause precision problems.\n",
      "  ConvergenceWarning)\n",
      "C:\\Users\\Jacob\\Anaconda3\\lib\\site-packages\\sklearn\\linear_model\\coordinate_descent.py:491: ConvergenceWarning: Objective did not converge. You might want to increase the number of iterations. Fitting data with very small alpha may cause precision problems.\n",
      "  ConvergenceWarning)\n",
      "C:\\Users\\Jacob\\Anaconda3\\lib\\site-packages\\sklearn\\linear_model\\coordinate_descent.py:491: ConvergenceWarning: Objective did not converge. You might want to increase the number of iterations. Fitting data with very small alpha may cause precision problems.\n",
      "  ConvergenceWarning)\n",
      "C:\\Users\\Jacob\\Anaconda3\\lib\\site-packages\\sklearn\\linear_model\\coordinate_descent.py:491: ConvergenceWarning: Objective did not converge. You might want to increase the number of iterations. Fitting data with very small alpha may cause precision problems.\n",
      "  ConvergenceWarning)\n",
      "C:\\Users\\Jacob\\Anaconda3\\lib\\site-packages\\sklearn\\linear_model\\coordinate_descent.py:491: ConvergenceWarning: Objective did not converge. You might want to increase the number of iterations. Fitting data with very small alpha may cause precision problems.\n",
      "  ConvergenceWarning)\n",
      "C:\\Users\\Jacob\\Anaconda3\\lib\\site-packages\\sklearn\\linear_model\\coordinate_descent.py:491: ConvergenceWarning: Objective did not converge. You might want to increase the number of iterations. Fitting data with very small alpha may cause precision problems.\n",
      "  ConvergenceWarning)\n",
      "C:\\Users\\Jacob\\Anaconda3\\lib\\site-packages\\sklearn\\linear_model\\coordinate_descent.py:491: ConvergenceWarning: Objective did not converge. You might want to increase the number of iterations. Fitting data with very small alpha may cause precision problems.\n",
      "  ConvergenceWarning)\n",
      "C:\\Users\\Jacob\\Anaconda3\\lib\\site-packages\\sklearn\\linear_model\\coordinate_descent.py:491: ConvergenceWarning: Objective did not converge. You might want to increase the number of iterations. Fitting data with very small alpha may cause precision problems.\n",
      "  ConvergenceWarning)\n",
      "C:\\Users\\Jacob\\Anaconda3\\lib\\site-packages\\sklearn\\linear_model\\coordinate_descent.py:491: ConvergenceWarning: Objective did not converge. You might want to increase the number of iterations. Fitting data with very small alpha may cause precision problems.\n",
      "  ConvergenceWarning)\n",
      "C:\\Users\\Jacob\\Anaconda3\\lib\\site-packages\\sklearn\\linear_model\\coordinate_descent.py:491: ConvergenceWarning: Objective did not converge. You might want to increase the number of iterations. Fitting data with very small alpha may cause precision problems.\n",
      "  ConvergenceWarning)\n",
      "C:\\Users\\Jacob\\Anaconda3\\lib\\site-packages\\sklearn\\linear_model\\coordinate_descent.py:491: ConvergenceWarning: Objective did not converge. You might want to increase the number of iterations. Fitting data with very small alpha may cause precision problems.\n",
      "  ConvergenceWarning)\n",
      "C:\\Users\\Jacob\\Anaconda3\\lib\\site-packages\\sklearn\\linear_model\\coordinate_descent.py:491: ConvergenceWarning: Objective did not converge. You might want to increase the number of iterations. Fitting data with very small alpha may cause precision problems.\n",
      "  ConvergenceWarning)\n",
      "C:\\Users\\Jacob\\Anaconda3\\lib\\site-packages\\sklearn\\linear_model\\coordinate_descent.py:491: ConvergenceWarning: Objective did not converge. You might want to increase the number of iterations. Fitting data with very small alpha may cause precision problems.\n",
      "  ConvergenceWarning)\n",
      "C:\\Users\\Jacob\\Anaconda3\\lib\\site-packages\\sklearn\\linear_model\\coordinate_descent.py:491: ConvergenceWarning: Objective did not converge. You might want to increase the number of iterations. Fitting data with very small alpha may cause precision problems.\n",
      "  ConvergenceWarning)\n",
      "C:\\Users\\Jacob\\Anaconda3\\lib\\site-packages\\sklearn\\linear_model\\coordinate_descent.py:491: ConvergenceWarning: Objective did not converge. You might want to increase the number of iterations. Fitting data with very small alpha may cause precision problems.\n",
      "  ConvergenceWarning)\n",
      "C:\\Users\\Jacob\\Anaconda3\\lib\\site-packages\\sklearn\\linear_model\\coordinate_descent.py:491: ConvergenceWarning: Objective did not converge. You might want to increase the number of iterations. Fitting data with very small alpha may cause precision problems.\n",
      "  ConvergenceWarning)\n",
      "C:\\Users\\Jacob\\Anaconda3\\lib\\site-packages\\sklearn\\linear_model\\coordinate_descent.py:491: ConvergenceWarning: Objective did not converge. You might want to increase the number of iterations. Fitting data with very small alpha may cause precision problems.\n",
      "  ConvergenceWarning)\n",
      "C:\\Users\\Jacob\\Anaconda3\\lib\\site-packages\\sklearn\\linear_model\\coordinate_descent.py:491: ConvergenceWarning: Objective did not converge. You might want to increase the number of iterations. Fitting data with very small alpha may cause precision problems.\n",
      "  ConvergenceWarning)\n",
      "C:\\Users\\Jacob\\Anaconda3\\lib\\site-packages\\sklearn\\linear_model\\coordinate_descent.py:491: ConvergenceWarning: Objective did not converge. You might want to increase the number of iterations. Fitting data with very small alpha may cause precision problems.\n",
      "  ConvergenceWarning)\n",
      "C:\\Users\\Jacob\\Anaconda3\\lib\\site-packages\\sklearn\\linear_model\\coordinate_descent.py:491: ConvergenceWarning: Objective did not converge. You might want to increase the number of iterations. Fitting data with very small alpha may cause precision problems.\n",
      "  ConvergenceWarning)\n",
      "C:\\Users\\Jacob\\Anaconda3\\lib\\site-packages\\sklearn\\linear_model\\coordinate_descent.py:491: ConvergenceWarning: Objective did not converge. You might want to increase the number of iterations. Fitting data with very small alpha may cause precision problems.\n",
      "  ConvergenceWarning)\n",
      "C:\\Users\\Jacob\\Anaconda3\\lib\\site-packages\\sklearn\\linear_model\\coordinate_descent.py:491: ConvergenceWarning: Objective did not converge. You might want to increase the number of iterations. Fitting data with very small alpha may cause precision problems.\n",
      "  ConvergenceWarning)\n"
     ]
    }
   ],
   "source": [
    "# [Answer to Ex. 12.2.2]\n",
    "from sklearn.linear_model import Lasso\n",
    "from sklearn.metrics import mean_squared_error as mse\n",
    "\n",
    "#def rmse(y_pred, y_true):\n",
    "#    YOUR CODE HERE\n",
    "\n",
    "# YOUR CODE HERE\n",
    "def rmse(y_pred, y_true):\n",
    "    return np.sqrt(mse(y_train, y_pred_train))\n",
    "\n",
    "output = []\n",
    "for lam in np.logspace(-4, 4, num = 20):\n",
    "    clf = Lasso(lam)\n",
    "    fit = clf.fit(X_train, y_train)\n",
    "    y_pred_train = fit.predict(X_train)\n",
    "    y_pred_test = fit.predict(X_test)\n",
    "    to_store = [lam, np.sqrt(mse(y_train, y_pred_train)), np.sqrt(mse(y_test, y_pred_test))]\n",
    "    output.append(to_store)"
   ]
  },
  {
   "cell_type": "code",
   "execution_count": 10,
   "metadata": {
    "deletable": false,
    "editable": false,
    "nbgrader": {
     "checksum": "67cda383bea4276cf0f3f56c84851d16",
     "grade": true,
     "grade_id": "cell-bacb9951b20a7eb1",
     "locked": true,
     "points": 1,
     "schema_version": 1,
     "solution": false
    }
   },
   "outputs": [],
   "source": [
    "assert len(output) == 20\n",
    "assert all(len(i) == 3 for i in output)\n",
    "assert np.allclose([i[0] for i in output], np.logspace(-4, 4, 20))"
   ]
  },
  {
   "cell_type": "markdown",
   "metadata": {
    "deletable": false,
    "editable": false,
    "nbgrader": {
     "checksum": "054da1a320071d52c1cbc61cdd740db4",
     "grade": false,
     "grade_id": "cell-e138853f6783d024",
     "locked": true,
     "schema_version": 1,
     "solution": false
    }
   },
   "source": [
    "> **Ex.12.2.3**: Make a plot with on the x-axis and the RMSE measures on the y-axis. What happens to RMSE for train and test data as $\\lambda$ increases? The x-axis should be log scaled. Which one are we interested in minimizing? \n",
    "\n",
    "> Bonus: Can you find the lambda that gives the lowest MSE-test score?\n",
    "\n",
    "Please store your DataFrame in a variable named `MSE_df`"
   ]
  },
  {
   "cell_type": "code",
   "execution_count": 11,
   "metadata": {
    "deletable": false,
    "nbgrader": {
     "checksum": "4d19dd215e35b51dc8254eb760c75b40",
     "grade": false,
     "grade_id": "cell-6044e3834a35b132",
     "locked": false,
     "schema_version": 1,
     "solution": true
    }
   },
   "outputs": [
    {
     "data": {
      "text/plain": [
       "<matplotlib.axes._subplots.AxesSubplot at 0x29dc7e40808>"
      ]
     },
     "execution_count": 11,
     "metadata": {},
     "output_type": "execute_result"
    },
    {
     "data": {
      "image/png": "[encoded data removed]",
      "text/plain": [
       "<Figure size 432x288 with 1 Axes>"
      ]
     },
     "metadata": {
      "needs_background": "light"
     },
     "output_type": "display_data"
    }
   ],
   "source": [
    "# [Answer to Ex. 12.2.3]\n",
    "\n",
    "\n",
    "\n",
    "# YOUR CODE HERE\n",
    "RMSEs_train = [i[1] for i in output]\n",
    "RMSEs_test = [i[2] for i in output]\n",
    "\n",
    "MSE_df = pd.DataFrame({'Train': RMSEs_train, 'Test': RMSEs_test, \\\n",
    "                       'lambda': np.logspace(-4, 4, num = 20)}).set_index('lambda')\n",
    "\n",
    "MSE_df.plot(logx = True, logy = True)"
   ]
  },
  {
   "cell_type": "code",
   "execution_count": 12,
   "metadata": {
    "deletable": false,
    "editable": false,
    "nbgrader": {
     "checksum": "b92cb5fefe7ae11d81a2c79c67194e41",
     "grade": true,
     "grade_id": "cell-6619297b5b1d6256",
     "locked": true,
     "points": 1,
     "schema_version": 1,
     "solution": false
    }
   },
   "outputs": [],
   "source": [
    "assert MSE_df.shape[0] == 20"
   ]
  },
  {
   "cell_type": "markdown",
   "metadata": {
    "deletable": false,
    "editable": false,
    "nbgrader": {
     "checksum": "0e866a6e23f26918c28eea526441986f",
     "grade": false,
     "grade_id": "cell-c4ac314e549df768",
     "locked": true,
     "schema_version": 1,
     "solution": false
    }
   },
   "source": [
    "## Problems from exercise set 13\n",
    "\n",
    "> **Ex. 13.1.3:**\n",
    "Run a Lasso regression using the Pipeline from `Ex 13.1.2`. In the outer loop searching through the lambdas specified below. \n",
    "In the inner loop make 5 fold cross validation on the selected model and store the average MSE for each fold. Which lambda gives the lowest test MSE?\n",
    ">\n",
    "You are supposed to append list elements to the list `mses` where the elements are `[the average of the mean squared errors of the kfolded TRAINING data with the specific lambda, the average of the mean squared errors of the kfolded TEST data with the specific lambda, the SPECIFIC LAMBDA]`. The length of the list should be 12 because you've got 12 different lambda parameters.\n",
    "\n",
    ">\n",
    ">> *Hint:* `KFold` in `sklearn.model_selection` may be useful.\n",
    ">\n",
    "> This code will give you the required data: "
   ]
  },
  {
   "cell_type": "code",
   "execution_count": 13,
   "metadata": {
    "deletable": false,
    "editable": false,
    "nbgrader": {
     "checksum": "137e9cd57cd7ab789a7cf46b111b86c9",
     "grade": false,
     "grade_id": "cell-cd167a6ab52b4e77",
     "locked": true,
     "schema_version": 1,
     "solution": false
    }
   },
   "outputs": [],
   "source": [
    "from sklearn.linear_model import Lasso\n",
    "from sklearn.pipeline import make_pipeline\n",
    "from sklearn.preprocessing import StandardScaler, PolynomialFeatures\n",
    "from sklearn.datasets import fetch_california_housing\n",
    "from sklearn.metrics import mean_squared_error as mse\n",
    "from sklearn.model_selection import train_test_split\n",
    "\n",
    "import warnings\n",
    "from sklearn.exceptions import ConvergenceWarning\n",
    "warnings.filterwarnings(action='ignore', category=ConvergenceWarning)\n",
    "\n",
    "\n",
    "import matplotlib.pyplot as plt\n",
    "import numpy as np \n",
    "import pandas as pd \n",
    "import seaborn as sns\n",
    "\n",
    "cal_house = fetch_california_housing()    \n",
    "X = pd.DataFrame(data=cal_house['data'], \n",
    "                 columns=cal_house['feature_names'])\\\n",
    "             .iloc[:,:-2]\n",
    "y = cal_house['target']"
   ]
  },
  {
   "cell_type": "code",
   "execution_count": 14,
   "metadata": {
    "deletable": false,
    "nbgrader": {
     "checksum": "dc79c6dd4f2e8b131301e9cac81535b8",
     "grade": false,
     "grade_id": "cell-df6080fe4c379a97",
     "locked": false,
     "schema_version": 1,
     "solution": true
    }
   },
   "outputs": [],
   "source": [
    "# [Answer to Ex. 13.1.3]\n",
    "from sklearn.model_selection import KFold\n",
    "X_dev, X_test, y_dev, y_test = train_test_split(X, y, test_size=1/3, random_state=1995)    \n",
    "X_train, X_val, y_train, y_val = train_test_split(X_dev, y_dev, test_size=1/2, random_state=1995)\n",
    "kfolds = KFold(n_splits=5)\n",
    "lambdas =  np.logspace(-4, 4, 12)\n",
    "mses = []\n",
    "\n",
    "\n",
    "# YOUR CODE HERE\n",
    "for lambda_ in lambdas:\n",
    "    for train_idx, val_idx in kfolds.split(X_dev, y_dev):\n",
    "        mse_train = []\n",
    "        mse_test = []\n",
    "        pipe_lassoCV = make_pipeline(PolynomialFeatures(), StandardScaler(), Lasso(alpha = lambda_, random_state = 1))\n",
    "        X_train, y_train, = pd.DataFrame(X_dev).iloc[train_idx], pd.DataFrame(y_dev).iloc[train_idx]\n",
    "        X_val, y_val = pd.DataFrame(X_dev).iloc[val_idx], pd.DataFrame(y_dev).iloc[val_idx]\n",
    "        pipe_lassoCV.fit(X_train, y_train)\n",
    "        mse_train.append(mse(pipe_lassoCV.predict(X_train), y_train))\n",
    "        mse_test.append(mse(pipe_lassoCV.predict(X_val), y_val))\n",
    "    to_store = [np.mean(mse_train), np.mean(mse_test), lambda_]\n",
    "    mses.append(to_store)"
   ]
  },
  {
   "cell_type": "code",
   "execution_count": 15,
   "metadata": {
    "deletable": false,
    "editable": false,
    "nbgrader": {
     "checksum": "6c88aa05b2fc68b6cf17612d82f08a55",
     "grade": true,
     "grade_id": "cell-37fc3f96d84b608d",
     "locked": true,
     "points": 1,
     "schema_version": 1,
     "solution": false
    }
   },
   "outputs": [],
   "source": [
    "assert len(mses) == 12\n",
    "assert all(len(i) == 3 for i in mses)\n",
    "assert all(isinstance(i[0], float) for i in mses)\n",
    "assert all(isinstance(i[1], float) for i in mses)\n",
    "assert all(isinstance(i[2], float) for i in mses)"
   ]
  },
  {
   "cell_type": "markdown",
   "metadata": {
    "deletable": false,
    "editable": false,
    "nbgrader": {
     "checksum": "058d0a12d7956bacdf8d91bdae42a272",
     "grade": false,
     "grade_id": "cell-19693c98308793a4",
     "locked": true,
     "schema_version": 1,
     "solution": false
    }
   },
   "source": [
    "# Exercise Set 15: Text Classification and Sentiment Analysis\n",
    "\n",
    "*Morning, August 21, 2019*\n",
    "\n",
    "In this Exercise Set you will practice using two basic text classification methods: rule- and machine learning-based. The exercise has XX parts:\n",
    "\n",
    "1. Implement a lexical look-up method.\n",
    "2. Apply pre-packaged rulebased dictionaries.\n",
    "3. Train a simple baseline machine learning classifier.\n",
    "\n",
    "In the end, you will then compare the results of these approaches.\n",
    "\n",
    "First, load our standard stuff and import the following modules:"
   ]
  },
  {
   "cell_type": "code",
   "execution_count": 16,
   "metadata": {
    "deletable": false,
    "editable": false,
    "nbgrader": {
     "checksum": "8152ecc95e956f3bdcd65b8ad8176e60",
     "grade": false,
     "grade_id": "cell-14bb71590e016bf5",
     "locked": true,
     "schema_version": 1,
     "solution": false
    }
   },
   "outputs": [],
   "source": [
    "## Standard stuff:\n",
    "import numpy as np, seaborn as sns, pandas as pd\n",
    "## For text classification:\n",
    "import nltk, nltk.sentiment, sklearn\n",
    "%matplotlib inline"
   ]
  },
  {
   "cell_type": "markdown",
   "metadata": {
    "deletable": false,
    "editable": false,
    "nbgrader": {
     "checksum": "46c79b3cf5573d1c7658947a215f341a",
     "grade": false,
     "grade_id": "cell-f8b43193d368738a",
     "locked": true,
     "schema_version": 1,
     "solution": false
    }
   },
   "source": [
    "## Exercise 15 Part 1: Implementing your own Lexical Lookup method\n",
    "There are many curated dictionaries and lexicons online for all sorts of topics (see for instance this project: https://hedonometer.org/index.html where the lexicons behind it can be downloaded here: https://github.com/andyreagan/hedonometer/blob/master/hedonometer/static/hedonometer/labMT1.txt). For this exercise we will use the following list of positive and negative words (positive:http://ptrckprry.com/course/ssd/data/negative-words.txt ; negative: http://ptrckprry.com/course/ssd/data/positive-words.txt) compilled by Hu and Liu. \n",
    "\n",
    "We will use the following dataset (a random sample of the trustpilot review data we collected in exercise 8) to practice on.\n",
    "\n",
    "> **Ex. 15.1.1:**  Load it like this (remember to import the `request` package): \n",
    "\n",
    "```python \n",
    "# download data\n",
    "path2data = 'https://raw.githubusercontent.com/snorreralund/scraping_seminar/master/english_review_sample.csv'\n",
    "df = pd.read_csv(path2data)```\n",
    "\n",
    "The important columns are ***reviewBody*** containing the text, and the ***reviewRating_ratingValue*** containing the rating / stars."
   ]
  },
  {
   "cell_type": "code",
   "execution_count": 17,
   "metadata": {
    "deletable": false,
    "nbgrader": {
     "checksum": "8e78b05d37f0bfda76cf4848f186f88a",
     "grade": false,
     "grade_id": "cell-f53708052624c3e8",
     "locked": false,
     "schema_version": 1,
     "solution": true
    }
   },
   "outputs": [],
   "source": [
    "# [Answer to Ex. 15.1.1]\n",
    "#df = YOUR CODE\n",
    "# YOUR CODE HERE\n",
    "path2data = 'https://raw.githubusercontent.com/snorreralund/scraping_seminar/master/english_review_sample.csv'\n",
    "df = pd.read_csv(path2data)"
   ]
  },
  {
   "cell_type": "code",
   "execution_count": 18,
   "metadata": {
    "deletable": false,
    "editable": false,
    "nbgrader": {
     "checksum": "e20bab1acbfe2d9f9efa47a31ba5cb49",
     "grade": true,
     "grade_id": "cell-761d11fc22d7f54a",
     "locked": true,
     "points": 1,
     "schema_version": 1,
     "solution": false
    }
   },
   "outputs": [],
   "source": [
    "assert isinstance(df, pd.DataFrame)\n",
    "assert df.shape == (10000, 21)"
   ]
  },
  {
   "cell_type": "markdown",
   "metadata": {
    "deletable": false,
    "editable": false,
    "nbgrader": {
     "checksum": "8736e4623a87e77960b7d42d8df4f92b",
     "grade": false,
     "grade_id": "cell-edcc60866444c05f",
     "locked": true,
     "schema_version": 1,
     "solution": false
    }
   },
   "source": [
    "> **Ex. 15.1.2:** Next, we should download and prepare the dictionaries.\n",
    "1. Download the lists using python's `requests.get()`. The lists are documents of words separated by new line (which is the '\\n' character). \n",
    "2. Make sure to remove the comment section in the top by splitting at the right place. \n",
    "3. `.split()` these documents into words.\n",
    "4. Convert them into sets (using the `set()`-command) and assign these to two variables (e.g. ***positive*** and ***negative***). \n",
    "\n",
    "*Hint*: You can do all of the above in one line of code per list.\n",
    "\n",
    "Please make sure your positive set is named `positive` and your negative set `negative`"
   ]
  },
  {
   "cell_type": "code",
   "execution_count": 19,
   "metadata": {
    "deletable": false,
    "nbgrader": {
     "checksum": "e0551ff331b373522614fbc62c6eaecc",
     "grade": false,
     "grade_id": "cell-4388ca83d13bea29",
     "locked": false,
     "schema_version": 1,
     "solution": true
    }
   },
   "outputs": [],
   "source": [
    "# [Answer to Ex. 15.1.2]\n",
    "#negative = YOUR CODE\n",
    "#positive = YOUR CODE\n",
    "\n",
    "# YOUR CODE HERE\n",
    "import requests\n",
    "\n",
    "negative = requests.get('http://ptrckprry.com/course/ssd/data/negative-words.txt').text\n",
    "positive = requests.get('http://ptrckprry.com/course/ssd/data/positive-words.txt').text\n",
    "\n",
    "positive = set(positive.split('\\n')[35:])\n",
    "negative = set(negative.split('\\n')[35:])"
   ]
  },
  {
   "cell_type": "code",
   "execution_count": 20,
   "metadata": {
    "deletable": false,
    "editable": false,
    "nbgrader": {
     "checksum": "41f2fcb37dbac1049e32e705ce744642",
     "grade": true,
     "grade_id": "cell-7a3e45ee655276f6",
     "locked": true,
     "points": 1,
     "schema_version": 1,
     "solution": false
    }
   },
   "outputs": [],
   "source": [
    "assert isinstance(positive, set)\n",
    "assert isinstance(negative, set)\n",
    "assert len(positive) == 2007\n",
    "assert len(negative) == 4784"
   ]
  },
  {
   "cell_type": "markdown",
   "metadata": {
    "deletable": false,
    "editable": false,
    "nbgrader": {
     "checksum": "5558022f190b076ae24760cc7f931e3a",
     "grade": false,
     "grade_id": "cell-f27e2d1aaf8c756b",
     "locked": true,
     "schema_version": 1,
     "solution": false
    }
   },
   "source": [
    "Now we need to prepare the trustpilot reviews, our documents to be analyzed. This means lowercasing and tokenizing them to match the format that our dictionary comes in.\n",
    "\n",
    "> **Ex. 15.1.3:** Define a function `preprocessing(string)`, that takes in a string and returns a list of words. The function should do the following: \n",
    "1. lowercases the string using the `.lower()` command.\n",
    "2. tokenize the words using the `nltk.tokenize.TweetTokenizer()` which is good for social media type user content (i.e. emojiies and more free use of punctuation and commas. \n",
    "3. return tokenized documents.\n",
    "\n",
    "*Hint*: You can first initialize the tokenizer (outside the preprocessing function), and then you use the `.tokenize()` method.\n",
    "\n",
    "Please make sure your tweettokenizer instance is store in a variable named `tokenizer` and your preprocessing function should take the name `preprocessing` that takes the argument `string`"
   ]
  },
  {
   "cell_type": "code",
   "execution_count": 21,
   "metadata": {
    "deletable": false,
    "nbgrader": {
     "checksum": "4cf9eb97e4206c4963cb5054c22c28b5",
     "grade": false,
     "grade_id": "cell-5cb74325fbd9e541",
     "locked": false,
     "schema_version": 1,
     "solution": true
    }
   },
   "outputs": [],
   "source": [
    "# [Answer to Ex 15.1.3]\n",
    "#tokenizer = YOUR CODE\n",
    "#def preprocessing(string):\n",
    "#    YOUR CODE\n",
    "\n",
    "# YOUR CODE HERE\n",
    "from nltk.tokenize import TweetTokenizer\n",
    "tokenizer = TweetTokenizer()\n",
    "\n",
    "def preprocessing(string):\n",
    "    string = string.lower()\n",
    "    return tokenizer.tokenize(string)"
   ]
  },
  {
   "cell_type": "code",
   "execution_count": 22,
   "metadata": {
    "deletable": false,
    "editable": false,
    "nbgrader": {
     "checksum": "93f1ee3cfdd67219e43e419496723326",
     "grade": true,
     "grade_id": "cell-25d6a67cbe886a53",
     "locked": true,
     "points": 1,
     "schema_version": 1,
     "solution": false
    }
   },
   "outputs": [],
   "source": [
    "tweet = \"Denmark is a very special country with incredible people, but based on Prime Minister Mette Frederiksen’s comments, that she would have no interest in discussing the purchase of Greenland, I will be postponing our meeting scheduled in two weeks for another time....\"\n",
    "assert isinstance(tokenizer, nltk.tokenize.TweetTokenizer)\n",
    "assert preprocessing(tweet)[:3] == ['denmark', 'is', 'a']"
   ]
  },
  {
   "cell_type": "markdown",
   "metadata": {
    "deletable": false,
    "editable": false,
    "nbgrader": {
     "checksum": "3ddd5fb0a268fd99060f6aa2850422fe",
     "grade": false,
     "grade_id": "cell-543a959a83c8613c",
     "locked": true,
     "schema_version": 1,
     "solution": false
    }
   },
   "source": [
    ">**Ex 15.1.4:** Apply the preprocessing function to all the documents (i.e. our review texts in the column ***reviewBody***).\n",
    "\n",
    "*Hint:* Use the `.apply()` method.\n",
    "\n",
    "Please store your processed pandas series in a variable named `documents`"
   ]
  },
  {
   "cell_type": "code",
   "execution_count": 23,
   "metadata": {
    "deletable": false,
    "nbgrader": {
     "checksum": "4a63deceb47db57a27c4d24dc2fa0099",
     "grade": false,
     "grade_id": "cell-4c0948e9ef6fb6f0",
     "locked": false,
     "schema_version": 1,
     "solution": true
    }
   },
   "outputs": [],
   "source": [
    "# [Answer to Ex 15.1.4]\n",
    "#documents = YOUR CODE\n",
    "# YOUR CODE HERE\n",
    "documents = df['reviewBody'].apply(preprocessing)"
   ]
  },
  {
   "cell_type": "code",
   "execution_count": 24,
   "metadata": {
    "deletable": false,
    "editable": false,
    "nbgrader": {
     "checksum": "cf2061c219c6e93544a14569a532f8a6",
     "grade": true,
     "grade_id": "cell-f6ae792632c1939f",
     "locked": true,
     "points": 1,
     "schema_version": 1,
     "solution": false
    }
   },
   "outputs": [],
   "source": [
    "assert isinstance(documents, pd.Series)\n",
    "assert documents.shape == (10000,)\n",
    "assert documents.apply(lambda x: isinstance(x, list)).all()\n",
    "assert documents.apply(lambda x: all(isinstance(i, str) for i in x)).all()"
   ]
  },
  {
   "cell_type": "markdown",
   "metadata": {
    "deletable": false,
    "editable": false,
    "nbgrader": {
     "checksum": "857c7ec383504da11387b620507416a9",
     "grade": false,
     "grade_id": "cell-7672d724222b2af2",
     "locked": true,
     "schema_version": 1,
     "solution": false
    }
   },
   "source": [
    "Now, we need to match the words in our dictionaries to the tokenized documents.\n",
    ">**Ex 15.1.5:** Define a function `count_dictionary(document,dictionary)` that takes a tokenized document and a set of words (i.e. the dictionaries we loaded in Ex 15.1.2) and counts the number of matches. The function should do the following:\n",
    "1. Filter the words not in the dictionary. \n",
    "*Hint*: you can use a list comprehension or for loop and `if word in` condition. \n",
    "2. Return the length of the filtered document.\t\t\n",
    "\n",
    "Please make sure your function is named `count_dictionary` and takes the arguments `tokenized_doc, dictionary`"
   ]
  },
  {
   "cell_type": "code",
   "execution_count": 25,
   "metadata": {
    "deletable": false,
    "nbgrader": {
     "checksum": "0278a49b836fd6257eb348d2272c62f8",
     "grade": false,
     "grade_id": "cell-8c891f460308f996",
     "locked": false,
     "schema_version": 1,
     "solution": true
    }
   },
   "outputs": [],
   "source": [
    "# [Answer Ex 15.1.5]\n",
    "#def count_dictionary(tokenized_doc,dictionary):\n",
    "#    YOUR CODE\n",
    "# YOUR CODE HERE\n",
    "def count_dictionary(document, dictionary):\n",
    "    ktokens = [token for token in document if token in dictionary]\n",
    "    return len(ktokens)"
   ]
  },
  {
   "cell_type": "code",
   "execution_count": 26,
   "metadata": {
    "deletable": false,
    "editable": false,
    "nbgrader": {
     "checksum": "17ad55abb966122f1560790bbe1c7e13",
     "grade": true,
     "grade_id": "cell-676422cc3af32793",
     "locked": true,
     "points": 1,
     "schema_version": 1,
     "solution": false
    }
   },
   "outputs": [],
   "source": [
    "in_positive = ['precisely',\n",
    " 'futurestic',\n",
    " 'indebted',\n",
    " 'vouchsafe',\n",
    " 'freedoms',\n",
    " 'grandeur',]\n",
    "\n",
    "not_in_positive = [\n",
    "    \"wascs\",\n",
    "    \"cpajos\"\n",
    "]\n",
    "\n",
    "l = in_positive + not_in_positive\n",
    "assert count_dictionary(l, positive) == len(in_positive)"
   ]
  },
  {
   "cell_type": "markdown",
   "metadata": {
    "deletable": false,
    "editable": false,
    "nbgrader": {
     "checksum": "b604d1345f69c5afabf4d2112bd4c225",
     "grade": false,
     "grade_id": "cell-1455c6b7aeb3cc79",
     "locked": true,
     "schema_version": 1,
     "solution": false
    }
   },
   "source": [
    ">**Ex 15.1.6:** Define two new columns (***positive_liu***, ***negative_liu***) in the dataframe applying the count_dictionary function to all tokenized documents with the positive and negative set as input. \n",
    "\n",
    "*Hint:* the `.apply()` method allows you to input named arguments matching your `count_dictionary()` function to input the sentiment dictionary. \n",
    "\n",
    "Please make sure that you have stored the number of words in the dataframed named `df` in the columns `positive_liu` and `negative_liu` "
   ]
  },
  {
   "cell_type": "code",
   "execution_count": 27,
   "metadata": {
    "deletable": false,
    "nbgrader": {
     "checksum": "3225bbd3c1176ca492bc7e6914e99b4f",
     "grade": false,
     "grade_id": "cell-88fd0b69ba8eef91",
     "locked": false,
     "schema_version": 1,
     "solution": true
    }
   },
   "outputs": [],
   "source": [
    "# [Answer Ex 15.1.6]\n",
    "# YOUR CODE HERE\n",
    "df['positive_liu'] = documents.apply(count_dictionary, dictionary = positive)\n",
    "df['negative_liu'] = documents.apply(count_dictionary, dictionary = negative)"
   ]
  },
  {
   "cell_type": "code",
   "execution_count": 28,
   "metadata": {
    "deletable": false,
    "editable": false,
    "nbgrader": {
     "checksum": "76a45e8e31e758016903133029c90bc3",
     "grade": true,
     "grade_id": "cell-8421b1dfee394d0f",
     "locked": true,
     "points": 1,
     "schema_version": 1,
     "solution": false
    }
   },
   "outputs": [],
   "source": [
    "assert df['positive_liu'].apply(lambda x: isinstance(x, (int, float))).all()\n",
    "assert df['negative_liu'].apply(lambda x: isinstance(x, (int, float))).all()"
   ]
  }
 ],
 "metadata": {
  "kernelspec": {
   "display_name": "Python 3",
   "language": "python",
   "name": "python3"
  },
  "language_info": {
   "codemirror_mode": {
    "name": "ipython",
    "version": 3
   },
   "file_extension": ".py",
   "mimetype": "text/x-python",
   "name": "python",
   "nbconvert_exporter": "python",
   "pygments_lexer": "ipython3",
   "version": "3.7.4"
  }
 },
 "nbformat": 4,
 "nbformat_minor": 2
}
